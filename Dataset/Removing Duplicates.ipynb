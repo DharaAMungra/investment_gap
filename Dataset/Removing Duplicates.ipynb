{
 "cells": [
  {
   "cell_type": "code",
   "execution_count": 1,
   "metadata": {
    "ExecuteTime": {
     "end_time": "2021-04-28T22:13:25.547020Z",
     "start_time": "2021-04-28T22:13:25.171073Z"
    }
   },
   "outputs": [],
   "source": [
    "!source /opt/anaconda3/bin/activate"
   ]
  },
  {
   "cell_type": "code",
   "execution_count": 2,
   "metadata": {
    "ExecuteTime": {
     "end_time": "2021-04-28T22:13:29.037077Z",
     "start_time": "2021-04-28T22:13:25.552436Z"
    }
   },
   "outputs": [],
   "source": [
    "import numpy as np\n",
    "import pandas as pd\n",
    "from os import path\n",
    "from PIL import Image\n",
    "from wordcloud import WordCloud, STOPWORDS, ImageColorGenerator\n",
    "import seaborn as sns\n",
    "import matplotlib.pyplot as plt\n",
    "%matplotlib inline\n",
    "import string \n",
    "import operator"
   ]
  },
  {
   "cell_type": "code",
   "execution_count": 3,
   "metadata": {
    "ExecuteTime": {
     "end_time": "2021-04-28T22:13:29.445724Z",
     "start_time": "2021-04-28T22:13:29.038628Z"
    }
   },
   "outputs": [],
   "source": [
    "barley=pd.read_csv('barley.csv')\n",
    "#bean=pd.read_csv('bean.csv')\n",
    "corn_maize=pd.read_csv('corn_maize.csv')\n",
    "#edamame=pd.read_csv('edamame.csv')\n",
    "#lentil=pd.read_csv('lentil.csv')\n",
    "millet=pd.read_csv('millet.csv')\n",
    "#nut=pd.read_csv('nut.csv')\n",
    "oat=pd.read_csv('oat.csv')\n",
    "#pea=pd.read_csv('pea.csv')\n",
    "potato=pd.read_csv('potato.csv')\n",
    "quinoa=pd.read_csv('quinoa.csv')\n",
    "rice=pd.read_csv('rice.csv')\n",
    "rye=pd.read_csv('rye.csv')\n",
    "sorghum=pd.read_csv('sorghum.csv')\n",
    "soybean=pd.read_csv('soybean.csv')\n",
    "wheat=pd.read_csv('wheat.csv')\n",
    "legume_nuts_no_peanuts=pd.read_csv('legume_nuts_no_peanuts.csv')\n",
    "legume_peanuts=pd.read_csv('legume_peanuts.csv')\n",
    "legume_other=pd.read_csv('legume_other.csv')"
   ]
  },
  {
   "cell_type": "code",
   "execution_count": 4,
   "metadata": {
    "ExecuteTime": {
     "end_time": "2021-04-28T22:13:29.452010Z",
     "start_time": "2021-04-28T22:13:29.447662Z"
    }
   },
   "outputs": [
    {
     "data": {
      "text/plain": [
       "(1392, 25)"
      ]
     },
     "execution_count": 4,
     "metadata": {},
     "output_type": "execute_result"
    }
   ],
   "source": [
    "wheat.shape"
   ]
  },
  {
   "cell_type": "code",
   "execution_count": 5,
   "metadata": {
    "ExecuteTime": {
     "end_time": "2021-04-28T22:13:29.476708Z",
     "start_time": "2021-04-28T22:13:29.453523Z"
    }
   },
   "outputs": [
    {
     "data": {
      "text/html": [
       "<div>\n",
       "<style scoped>\n",
       "    .dataframe tbody tr th:only-of-type {\n",
       "        vertical-align: middle;\n",
       "    }\n",
       "\n",
       "    .dataframe tbody tr th {\n",
       "        vertical-align: top;\n",
       "    }\n",
       "\n",
       "    .dataframe thead th {\n",
       "        text-align: right;\n",
       "    }\n",
       "</style>\n",
       "<table border=\"1\" class=\"dataframe\">\n",
       "  <thead>\n",
       "    <tr style=\"text-align: right;\">\n",
       "      <th></th>\n",
       "      <th>PROJECT_ID</th>\n",
       "      <th>PROJECT_TERMS</th>\n",
       "      <th>PROJECT_TITLE</th>\n",
       "      <th>DEPARTMENT</th>\n",
       "      <th>AGENCY</th>\n",
       "      <th>IC_CENTER</th>\n",
       "      <th>PROJECT_NUMBER</th>\n",
       "      <th>PROJECT_START_DATE</th>\n",
       "      <th>PROJECT_END_DATE</th>\n",
       "      <th>CONTACT_PI_PROJECT_LEADER</th>\n",
       "      <th>...</th>\n",
       "      <th>ORGANIZATION_STATE</th>\n",
       "      <th>ORGANIZATION_ZIP</th>\n",
       "      <th>ORGANIZATION_COUNTRY</th>\n",
       "      <th>BUDGET_START_DATE</th>\n",
       "      <th>BUDGET_END_DATE</th>\n",
       "      <th>CFDA_CODE</th>\n",
       "      <th>FY</th>\n",
       "      <th>FY_TOTAL_COST</th>\n",
       "      <th>FY_TOTAL_COST_SUB_PROJECTS</th>\n",
       "      <th>ABSTRACT</th>\n",
       "    </tr>\n",
       "  </thead>\n",
       "  <tbody>\n",
       "    <tr>\n",
       "      <th>0</th>\n",
       "      <td>584433</td>\n",
       "      <td>Anabolism; antiporter; Arabidopsis; Biochemis...</td>\n",
       "      <td>PHYTONUTRIENT BIOCHEMISTRY, PHYSIOLOGY, AND TR...</td>\n",
       "      <td>USDA</td>\n",
       "      <td>ARS</td>\n",
       "      <td>NaN</td>\n",
       "      <td>ARS-0408087</td>\n",
       "      <td>5/21/2004</td>\n",
       "      <td>3/31/2009</td>\n",
       "      <td>UPCHURCH, DAN R</td>\n",
       "      <td>...</td>\n",
       "      <td>TX</td>\n",
       "      <td>77030</td>\n",
       "      <td>UNITED STATES</td>\n",
       "      <td>NaN</td>\n",
       "      <td>NaN</td>\n",
       "      <td>10.001</td>\n",
       "      <td>2004</td>\n",
       "      <td>NaN</td>\n",
       "      <td>NaN</td>\n",
       "      <td>Objective(s): 1) Identify and characterize pla...</td>\n",
       "    </tr>\n",
       "    <tr>\n",
       "      <th>1</th>\n",
       "      <td>584463</td>\n",
       "      <td>Affect; Biochemical; Bread; Breeding; Carbohy...</td>\n",
       "      <td>ENHANCE HARD SPRING AND DURUM WHEAT QUALITY AN...</td>\n",
       "      <td>USDA</td>\n",
       "      <td>ARS</td>\n",
       "      <td>NaN</td>\n",
       "      <td>ARS-0408465</td>\n",
       "      <td>9/10/2004</td>\n",
       "      <td>7/5/2009</td>\n",
       "      <td>HARELAND, GARY A</td>\n",
       "      <td>...</td>\n",
       "      <td>ND</td>\n",
       "      <td>58102-2765</td>\n",
       "      <td>UNITED STATES</td>\n",
       "      <td>NaN</td>\n",
       "      <td>NaN</td>\n",
       "      <td>10.001</td>\n",
       "      <td>2004</td>\n",
       "      <td>NaN</td>\n",
       "      <td>NaN</td>\n",
       "      <td>Objective(s): Evaluate the processing and end-...</td>\n",
       "    </tr>\n",
       "    <tr>\n",
       "      <th>2</th>\n",
       "      <td>584455</td>\n",
       "      <td>Avena sativa; biosecurity; Breeding; Cereals;...</td>\n",
       "      <td>OBJECTIVE GRADING AND END-USE PROPERTY ASSESSM...</td>\n",
       "      <td>USDA</td>\n",
       "      <td>ARS</td>\n",
       "      <td>NaN</td>\n",
       "      <td>ARS-0408432</td>\n",
       "      <td>9/25/2004</td>\n",
       "      <td>7/5/2009</td>\n",
       "      <td>PEARSON, THOMAS CLARK</td>\n",
       "      <td>...</td>\n",
       "      <td>KS</td>\n",
       "      <td>66502</td>\n",
       "      <td>UNITED STATES</td>\n",
       "      <td>NaN</td>\n",
       "      <td>NaN</td>\n",
       "      <td>10.001</td>\n",
       "      <td>2004</td>\n",
       "      <td>NaN</td>\n",
       "      <td>NaN</td>\n",
       "      <td>Objective(s): Develop instrumentation and proc...</td>\n",
       "    </tr>\n",
       "    <tr>\n",
       "      <th>3</th>\n",
       "      <td>584464</td>\n",
       "      <td>Amino Acids; Amylopectin; Amylose; base; Bioc...</td>\n",
       "      <td>OPTICAL PROPERTIES OF SMALL GRAINS FOR RAPID A...</td>\n",
       "      <td>USDA</td>\n",
       "      <td>ARS</td>\n",
       "      <td>NaN</td>\n",
       "      <td>ARS-0408471</td>\n",
       "      <td>9/15/2004</td>\n",
       "      <td>9/3/2009</td>\n",
       "      <td>DELWICHE, STEPHEN R</td>\n",
       "      <td>...</td>\n",
       "      <td>MD</td>\n",
       "      <td>20705</td>\n",
       "      <td>UNITED STATES</td>\n",
       "      <td>NaN</td>\n",
       "      <td>NaN</td>\n",
       "      <td>10.001</td>\n",
       "      <td>2004</td>\n",
       "      <td>NaN</td>\n",
       "      <td>NaN</td>\n",
       "      <td>Objective(s): (1) Develop an automated system ...</td>\n",
       "    </tr>\n",
       "    <tr>\n",
       "      <th>4</th>\n",
       "      <td>584523</td>\n",
       "      <td>Architecture; Bioinformatics; Cell Wall; Cere...</td>\n",
       "      <td>BIOTECHNOLOGICAL ENHANCEMENT OF ENERGY CROPS</td>\n",
       "      <td>USDA</td>\n",
       "      <td>ARS</td>\n",
       "      <td>NaN</td>\n",
       "      <td>ARS-0408875</td>\n",
       "      <td>8/15/2004</td>\n",
       "      <td>8/14/2009</td>\n",
       "      <td>ANDERSON, OLIN D</td>\n",
       "      <td>...</td>\n",
       "      <td>CA</td>\n",
       "      <td>94710</td>\n",
       "      <td>UNITED STATES</td>\n",
       "      <td>NaN</td>\n",
       "      <td>NaN</td>\n",
       "      <td>10.001</td>\n",
       "      <td>2004</td>\n",
       "      <td>NaN</td>\n",
       "      <td>NaN</td>\n",
       "      <td>Objective(s): Develop the necessary range of k...</td>\n",
       "    </tr>\n",
       "  </tbody>\n",
       "</table>\n",
       "<p>5 rows × 25 columns</p>\n",
       "</div>"
      ],
      "text/plain": [
       "   PROJECT_ID                                      PROJECT_TERMS  \\\n",
       "0      584433   Anabolism; antiporter; Arabidopsis; Biochemis...   \n",
       "1      584463   Affect; Biochemical; Bread; Breeding; Carbohy...   \n",
       "2      584455   Avena sativa; biosecurity; Breeding; Cereals;...   \n",
       "3      584464   Amino Acids; Amylopectin; Amylose; base; Bioc...   \n",
       "4      584523   Architecture; Bioinformatics; Cell Wall; Cere...   \n",
       "\n",
       "                                       PROJECT_TITLE DEPARTMENT AGENCY  \\\n",
       "0  PHYTONUTRIENT BIOCHEMISTRY, PHYSIOLOGY, AND TR...       USDA    ARS   \n",
       "1  ENHANCE HARD SPRING AND DURUM WHEAT QUALITY AN...       USDA    ARS   \n",
       "2  OBJECTIVE GRADING AND END-USE PROPERTY ASSESSM...       USDA    ARS   \n",
       "3  OPTICAL PROPERTIES OF SMALL GRAINS FOR RAPID A...       USDA    ARS   \n",
       "4       BIOTECHNOLOGICAL ENHANCEMENT OF ENERGY CROPS       USDA    ARS   \n",
       "\n",
       "  IC_CENTER PROJECT_NUMBER PROJECT_START_DATE PROJECT_END_DATE  \\\n",
       "0       NaN    ARS-0408087          5/21/2004        3/31/2009   \n",
       "1       NaN    ARS-0408465          9/10/2004         7/5/2009   \n",
       "2       NaN    ARS-0408432          9/25/2004         7/5/2009   \n",
       "3       NaN    ARS-0408471          9/15/2004         9/3/2009   \n",
       "4       NaN    ARS-0408875          8/15/2004        8/14/2009   \n",
       "\n",
       "  CONTACT_PI_PROJECT_LEADER  ... ORGANIZATION_STATE  ORGANIZATION_ZIP  \\\n",
       "0           UPCHURCH, DAN R  ...                 TX             77030   \n",
       "1          HARELAND, GARY A  ...                 ND        58102-2765   \n",
       "2     PEARSON, THOMAS CLARK  ...                 KS             66502   \n",
       "3       DELWICHE, STEPHEN R  ...                 MD             20705   \n",
       "4          ANDERSON, OLIN D  ...                 CA             94710   \n",
       "\n",
       "  ORGANIZATION_COUNTRY BUDGET_START_DATE BUDGET_END_DATE CFDA_CODE    FY  \\\n",
       "0        UNITED STATES               NaN             NaN    10.001  2004   \n",
       "1        UNITED STATES               NaN             NaN    10.001  2004   \n",
       "2        UNITED STATES               NaN             NaN    10.001  2004   \n",
       "3        UNITED STATES               NaN             NaN    10.001  2004   \n",
       "4        UNITED STATES               NaN             NaN    10.001  2004   \n",
       "\n",
       "  FY_TOTAL_COST FY_TOTAL_COST_SUB_PROJECTS  \\\n",
       "0           NaN                        NaN   \n",
       "1           NaN                        NaN   \n",
       "2           NaN                        NaN   \n",
       "3           NaN                        NaN   \n",
       "4           NaN                        NaN   \n",
       "\n",
       "                                            ABSTRACT  \n",
       "0  Objective(s): 1) Identify and characterize pla...  \n",
       "1  Objective(s): Evaluate the processing and end-...  \n",
       "2  Objective(s): Develop instrumentation and proc...  \n",
       "3  Objective(s): (1) Develop an automated system ...  \n",
       "4  Objective(s): Develop the necessary range of k...  \n",
       "\n",
       "[5 rows x 25 columns]"
      ]
     },
     "execution_count": 5,
     "metadata": {},
     "output_type": "execute_result"
    }
   ],
   "source": [
    "wheat.head()"
   ]
  },
  {
   "cell_type": "markdown",
   "metadata": {},
   "source": [
    "# Combined analysis for all the crops"
   ]
  },
  {
   "cell_type": "code",
   "execution_count": 9,
   "metadata": {
    "ExecuteTime": {
     "end_time": "2021-04-28T22:14:20.711558Z",
     "start_time": "2021-04-28T22:14:20.706165Z"
    }
   },
   "outputs": [],
   "source": [
    "data=[barley,corn_maize,millet,oat,legume_nuts_no_peanuts,legume_peanuts,legume_other,potato,quinoa,rice,rye,sorghum,soybean,wheat]\n",
    "category=['barley','corn_maize','millet','oat','legume_nuts_no_peanuts','legume_peanuts','legume_other','potato','quinoa','rice','rye',\n",
    "         'sorghum','soybean','wheat']"
   ]
  },
  {
   "cell_type": "code",
   "execution_count": null,
   "metadata": {},
   "outputs": [],
   "source": []
  },
  {
   "cell_type": "code",
   "execution_count": 14,
   "metadata": {
    "ExecuteTime": {
     "end_time": "2021-04-28T22:14:27.502123Z",
     "start_time": "2021-04-28T22:14:25.998537Z"
    }
   },
   "outputs": [
    {
     "name": "stdout",
     "output_type": "stream",
     "text": [
      "(497, 26)\n",
      "barley (443, 26)\n",
      "(2655, 26)\n",
      "corn_maize (2569, 26)\n",
      "(58, 26)\n",
      "millet (55, 26)\n",
      "(206, 26)\n",
      "oat (185, 26)\n",
      "(1654, 26)\n",
      "legume_nuts_no_peanuts (1570, 26)\n",
      "(1414, 26)\n",
      "legume_peanuts (1333, 26)\n",
      "(1169, 26)\n",
      "legume_other (1103, 26)\n",
      "(736, 26)\n",
      "potato (710, 26)\n",
      "(15, 26)\n",
      "quinoa (15, 26)\n",
      "(1330, 26)\n",
      "rice (1302, 26)\n",
      "(99, 26)\n",
      "rye (96, 26)\n",
      "(495, 26)\n",
      "sorghum (459, 26)\n",
      "(1694, 26)\n",
      "soybean (1635, 26)\n",
      "(1392, 25)\n",
      "wheat (1319, 25)\n"
     ]
    }
   ],
   "source": [
    "def remove_duplicates(data,category):\n",
    "    d = pd.DataFrame()\n",
    "    \n",
    "    text=''\n",
    "    funding=[]\n",
    "    # word-count in csv\n",
    "    i=0\n",
    "    for dataframe in data:\n",
    "        print(dataframe.shape)\n",
    "        df=dataframe[~dataframe['PROJECT_NUMBER'].duplicated() | dataframe['FY_TOTAL_COST'].notnull()]\n",
    "        print(category[i],df.shape)\n",
    "        \n",
    "        df.to_csv(category[i]+'_no_zero_duplicates.csv',index=False)\n",
    "        d=d.append(df,ignore_index=True)\n",
    "        i+=1\n",
    "    d.to_csv('all_no_zero_duplicates.csv',index=False)        \n",
    "remove_duplicates(data,category)"
   ]
  },
  {
   "cell_type": "code",
   "execution_count": null,
   "metadata": {},
   "outputs": [],
   "source": []
  }
 ],
 "metadata": {
  "kernelspec": {
   "display_name": "Python 3",
   "language": "python",
   "name": "python3"
  },
  "language_info": {
   "codemirror_mode": {
    "name": "ipython",
    "version": 3
   },
   "file_extension": ".py",
   "mimetype": "text/x-python",
   "name": "python",
   "nbconvert_exporter": "python",
   "pygments_lexer": "ipython3",
   "version": "3.8.3"
  },
  "toc": {
   "base_numbering": 1,
   "nav_menu": {},
   "number_sections": true,
   "sideBar": true,
   "skip_h1_title": false,
   "title_cell": "Table of Contents",
   "title_sidebar": "Contents",
   "toc_cell": false,
   "toc_position": {},
   "toc_section_display": true,
   "toc_window_display": false
  }
 },
 "nbformat": 4,
 "nbformat_minor": 4
}
