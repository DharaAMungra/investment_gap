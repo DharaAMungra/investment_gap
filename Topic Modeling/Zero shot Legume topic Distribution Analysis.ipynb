{
 "cells": [
  {
   "cell_type": "code",
   "execution_count": 1,
   "metadata": {
    "ExecuteTime": {
     "end_time": "2021-03-05T16:09:44.140796Z",
     "start_time": "2021-03-05T16:09:42.655140Z"
    }
   },
   "outputs": [],
   "source": [
    "import numpy as np\n",
    "import pandas as pd\n",
    "from os import path\n",
    "from PIL import Image\n",
    "from wordcloud import WordCloud, STOPWORDS, ImageColorGenerator\n",
    "import seaborn as sns\n",
    "import matplotlib.pyplot as plt\n",
    "%matplotlib inline\n",
    "import string \n",
    "import operator"
   ]
  },
  {
   "cell_type": "code",
   "execution_count": 2,
   "metadata": {
    "ExecuteTime": {
     "end_time": "2021-03-05T16:09:44.170063Z",
     "start_time": "2021-03-05T16:09:44.142892Z"
    }
   },
   "outputs": [],
   "source": [
    "df=pd.read_csv('legume_zero_shot_results.csv')"
   ]
  },
  {
   "cell_type": "code",
   "execution_count": 4,
   "metadata": {
    "ExecuteTime": {
     "end_time": "2021-03-05T15:59:58.394052Z",
     "start_time": "2021-03-05T15:59:58.387004Z"
    }
   },
   "outputs": [
    {
     "data": {
      "text/plain": [
       "(637, 41)"
      ]
     },
     "execution_count": 4,
     "metadata": {},
     "output_type": "execute_result"
    }
   ],
   "source": [
    "df.shape"
   ]
  },
  {
   "cell_type": "code",
   "execution_count": 3,
   "metadata": {
    "ExecuteTime": {
     "end_time": "2021-03-05T16:09:44.767852Z",
     "start_time": "2021-03-05T16:09:44.744826Z"
    }
   },
   "outputs": [
    {
     "data": {
      "text/html": [
       "<div>\n",
       "<style scoped>\n",
       "    .dataframe tbody tr th:only-of-type {\n",
       "        vertical-align: middle;\n",
       "    }\n",
       "\n",
       "    .dataframe tbody tr th {\n",
       "        vertical-align: top;\n",
       "    }\n",
       "\n",
       "    .dataframe thead th {\n",
       "        text-align: right;\n",
       "    }\n",
       "</style>\n",
       "<table border=\"1\" class=\"dataframe\">\n",
       "  <thead>\n",
       "    <tr style=\"text-align: right;\">\n",
       "      <th></th>\n",
       "      <th>Unnamed: 0</th>\n",
       "      <th>abstract</th>\n",
       "      <th>crop yield</th>\n",
       "      <th>crop growth</th>\n",
       "      <th>breeding</th>\n",
       "      <th>pest</th>\n",
       "      <th>crop disease</th>\n",
       "      <th>resistance</th>\n",
       "      <th>stress</th>\n",
       "      <th>virus</th>\n",
       "      <th>...</th>\n",
       "      <th>chicken</th>\n",
       "      <th>fish</th>\n",
       "      <th>animal feed</th>\n",
       "      <th>meat</th>\n",
       "      <th>dairy</th>\n",
       "      <th>beef</th>\n",
       "      <th>forage</th>\n",
       "      <th>animal</th>\n",
       "      <th>biofuel</th>\n",
       "      <th>bioenergy</th>\n",
       "    </tr>\n",
       "  </thead>\n",
       "  <tbody>\n",
       "    <tr>\n",
       "      <th>0</th>\n",
       "      <td>0</td>\n",
       "      <td>high fertilizer and feed costs are the main re...</td>\n",
       "      <td>0.003461</td>\n",
       "      <td>0.005265</td>\n",
       "      <td>0.004814</td>\n",
       "      <td>0.002598</td>\n",
       "      <td>0.001496</td>\n",
       "      <td>0.006668</td>\n",
       "      <td>0.006642</td>\n",
       "      <td>0.001919</td>\n",
       "      <td>...</td>\n",
       "      <td>0.001365</td>\n",
       "      <td>0.001252</td>\n",
       "      <td>0.014715</td>\n",
       "      <td>0.025267</td>\n",
       "      <td>0.001359</td>\n",
       "      <td>0.113838</td>\n",
       "      <td>0.062713</td>\n",
       "      <td>0.166039</td>\n",
       "      <td>0.001993</td>\n",
       "      <td>0.003390</td>\n",
       "    </tr>\n",
       "    <tr>\n",
       "      <th>1</th>\n",
       "      <td>1</td>\n",
       "      <td>this planning proposal assembles a trans-disci...</td>\n",
       "      <td>0.056302</td>\n",
       "      <td>0.138261</td>\n",
       "      <td>0.010773</td>\n",
       "      <td>0.014329</td>\n",
       "      <td>0.007546</td>\n",
       "      <td>0.046478</td>\n",
       "      <td>0.036990</td>\n",
       "      <td>0.015234</td>\n",
       "      <td>...</td>\n",
       "      <td>0.005550</td>\n",
       "      <td>0.006785</td>\n",
       "      <td>0.004460</td>\n",
       "      <td>0.005397</td>\n",
       "      <td>0.005142</td>\n",
       "      <td>0.005810</td>\n",
       "      <td>0.011579</td>\n",
       "      <td>0.011753</td>\n",
       "      <td>0.006617</td>\n",
       "      <td>0.007895</td>\n",
       "    </tr>\n",
       "    <tr>\n",
       "      <th>2</th>\n",
       "      <td>2</td>\n",
       "      <td>the goal of this project is to develop and imp...</td>\n",
       "      <td>0.016682</td>\n",
       "      <td>0.112610</td>\n",
       "      <td>0.002386</td>\n",
       "      <td>0.165718</td>\n",
       "      <td>0.183661</td>\n",
       "      <td>0.012300</td>\n",
       "      <td>0.010117</td>\n",
       "      <td>0.002179</td>\n",
       "      <td>...</td>\n",
       "      <td>0.000834</td>\n",
       "      <td>0.001024</td>\n",
       "      <td>0.000862</td>\n",
       "      <td>0.000940</td>\n",
       "      <td>0.000914</td>\n",
       "      <td>0.000460</td>\n",
       "      <td>0.002217</td>\n",
       "      <td>0.002146</td>\n",
       "      <td>0.001729</td>\n",
       "      <td>0.002234</td>\n",
       "    </tr>\n",
       "    <tr>\n",
       "      <th>3</th>\n",
       "      <td>3</td>\n",
       "      <td>we have a unique opportunity to develop protoc...</td>\n",
       "      <td>0.003094</td>\n",
       "      <td>0.004160</td>\n",
       "      <td>0.103651</td>\n",
       "      <td>0.004188</td>\n",
       "      <td>0.002089</td>\n",
       "      <td>0.320441</td>\n",
       "      <td>0.028197</td>\n",
       "      <td>0.001829</td>\n",
       "      <td>...</td>\n",
       "      <td>0.001384</td>\n",
       "      <td>0.001612</td>\n",
       "      <td>0.001273</td>\n",
       "      <td>0.001475</td>\n",
       "      <td>0.001717</td>\n",
       "      <td>0.001691</td>\n",
       "      <td>0.014178</td>\n",
       "      <td>0.003770</td>\n",
       "      <td>0.003031</td>\n",
       "      <td>0.004517</td>\n",
       "    </tr>\n",
       "    <tr>\n",
       "      <th>4</th>\n",
       "      <td>4</td>\n",
       "      <td>outreach and education targeted specifically a...</td>\n",
       "      <td>0.028521</td>\n",
       "      <td>0.097153</td>\n",
       "      <td>0.010250</td>\n",
       "      <td>0.087739</td>\n",
       "      <td>0.021135</td>\n",
       "      <td>0.149134</td>\n",
       "      <td>0.032219</td>\n",
       "      <td>0.010815</td>\n",
       "      <td>...</td>\n",
       "      <td>0.005155</td>\n",
       "      <td>0.004161</td>\n",
       "      <td>0.003965</td>\n",
       "      <td>0.003214</td>\n",
       "      <td>0.004431</td>\n",
       "      <td>0.004247</td>\n",
       "      <td>0.007050</td>\n",
       "      <td>0.006162</td>\n",
       "      <td>0.006165</td>\n",
       "      <td>0.010305</td>\n",
       "    </tr>\n",
       "  </tbody>\n",
       "</table>\n",
       "<p>5 rows × 41 columns</p>\n",
       "</div>"
      ],
      "text/plain": [
       "   Unnamed: 0                                           abstract  crop yield  \\\n",
       "0           0  high fertilizer and feed costs are the main re...    0.003461   \n",
       "1           1  this planning proposal assembles a trans-disci...    0.056302   \n",
       "2           2  the goal of this project is to develop and imp...    0.016682   \n",
       "3           3  we have a unique opportunity to develop protoc...    0.003094   \n",
       "4           4  outreach and education targeted specifically a...    0.028521   \n",
       "\n",
       "   crop growth  breeding      pest  crop disease  resistance    stress  \\\n",
       "0     0.005265  0.004814  0.002598      0.001496    0.006668  0.006642   \n",
       "1     0.138261  0.010773  0.014329      0.007546    0.046478  0.036990   \n",
       "2     0.112610  0.002386  0.165718      0.183661    0.012300  0.010117   \n",
       "3     0.004160  0.103651  0.004188      0.002089    0.320441  0.028197   \n",
       "4     0.097153  0.010250  0.087739      0.021135    0.149134  0.032219   \n",
       "\n",
       "      virus  ...   chicken      fish  animal feed      meat     dairy  \\\n",
       "0  0.001919  ...  0.001365  0.001252     0.014715  0.025267  0.001359   \n",
       "1  0.015234  ...  0.005550  0.006785     0.004460  0.005397  0.005142   \n",
       "2  0.002179  ...  0.000834  0.001024     0.000862  0.000940  0.000914   \n",
       "3  0.001829  ...  0.001384  0.001612     0.001273  0.001475  0.001717   \n",
       "4  0.010815  ...  0.005155  0.004161     0.003965  0.003214  0.004431   \n",
       "\n",
       "       beef    forage    animal   biofuel  bioenergy  \n",
       "0  0.113838  0.062713  0.166039  0.001993   0.003390  \n",
       "1  0.005810  0.011579  0.011753  0.006617   0.007895  \n",
       "2  0.000460  0.002217  0.002146  0.001729   0.002234  \n",
       "3  0.001691  0.014178  0.003770  0.003031   0.004517  \n",
       "4  0.004247  0.007050  0.006162  0.006165   0.010305  \n",
       "\n",
       "[5 rows x 41 columns]"
      ]
     },
     "execution_count": 3,
     "metadata": {},
     "output_type": "execute_result"
    }
   ],
   "source": [
    "df.head()"
   ]
  },
  {
   "cell_type": "markdown",
   "metadata": {},
   "source": [
    "# Combined analysis for all the crops"
   ]
  },
  {
   "cell_type": "code",
   "execution_count": 9,
   "metadata": {
    "ExecuteTime": {
     "end_time": "2021-03-05T16:10:54.831997Z",
     "start_time": "2021-03-05T16:10:54.825072Z"
    }
   },
   "outputs": [
    {
     "data": {
      "text/plain": [
       "Index(['Unnamed: 0', 'abstract', 'crop yield', 'crop growth', 'breeding',\n",
       "       'pest', 'crop disease', 'resistance', 'stress', 'virus', 'pathogen',\n",
       "       'environment', 'greenhouse gas', 'climate change', 'ecosystem',\n",
       "       'nitrogen', 'phosphorous', 'fertilizer', 'water', 'cover crop',\n",
       "       'cropping system', 'crop rotation', 'soil', 'tillage', 'human health',\n",
       "       'human diet', 'human nutrition', 'livestock', 'cattle', 'hog', 'pig',\n",
       "       'chicken', 'fish', 'animal feed', 'meat', 'dairy', 'beef', 'forage',\n",
       "       'animal', 'biofuel', 'bioenergy'],\n",
       "      dtype='object')"
      ]
     },
     "execution_count": 9,
     "metadata": {},
     "output_type": "execute_result"
    }
   ],
   "source": [
    "df.columns"
   ]
  },
  {
   "cell_type": "code",
   "execution_count": 10,
   "metadata": {
    "ExecuteTime": {
     "end_time": "2021-03-05T16:11:12.542204Z",
     "start_time": "2021-03-05T16:11:12.532474Z"
    }
   },
   "outputs": [],
   "source": [
    "d = df[[\n",
    "    'Production: crop yield', 'Production: crop growth', 'Production: breeding', \n",
    "             'Bio_stress: pest', 'Bio_stress: crop disease', 'Bio_stress: resistance', 'Bio_stress: stress', 'Bio_stress: virus', 'Bio_stress: pathogen',\n",
    "             'Environment: environment', 'Environment: greenhouse gas', 'Environment: climate change', 'Environment: ecosystem', \n",
    "             'Cultivation: nitrogen', 'Cultivation: phosphorous', 'Cultivation: fertilizer', 'Cultivation: water', 'Cultivation: cover crop', \n",
    "             'Cultivation: cropping system', 'Cultivation: crop rotation', 'Cultivation: soil', 'Cultivation: tillage', \n",
    "             'Human_health: human health', 'Human_health: human diet', 'Human_health: human nutrition', \n",
    "             'Animal: livestock', 'Animal: cattle', 'Animal: hog', 'Animal: pig', 'Animal: chicken', 'Animal: fish', 'Animal: animal feed', \n",
    "             'Animal: meat', 'Animal: dairy', 'Animal: beef', 'Animal: forage', 'Animal: animal', \n",
    "             'Bioenegry: biofuel', 'Bioenegry: bioenergy'\n",
    "]]"
   ]
  },
  {
   "cell_type": "code",
   "execution_count": 13,
   "metadata": {
    "ExecuteTime": {
     "end_time": "2021-03-05T16:15:05.336286Z",
     "start_time": "2021-03-05T16:15:05.331097Z"
    }
   },
   "outputs": [],
   "source": [
    "production = ['Production: crop yield', 'Production: crop growth', 'Production: breeding']\n",
    "bio_stress = [\n",
    "    'Bio_stress: pest', 'Bio_stress: crop disease', 'Bio_stress: resistance',\n",
    "    'Bio_stress: stress', 'Bio_stress: virus', 'Bio_stress: pathogen'\n",
    "]\n",
    "environment = [\n",
    "    'Environment: environment', 'Environment: greenhouse gas',\n",
    "    'Environment: climate change', 'Environment: ecosystem'\n",
    "]\n",
    "cultivation = [\n",
    "    'Cultivation: nitrogen', 'Cultivation: phosphorous',\n",
    "    'Cultivation: fertilizer', 'Cultivation: water', 'Cultivation: cover crop',\n",
    "    'Cultivation: cropping system', 'Cultivation: crop rotation',\n",
    "    'Cultivation: soil', 'Cultivation: tillage'\n",
    "]\n",
    "human_health = [\n",
    "    'Human_health: human health', 'Human_health: human diet',\n",
    "    'Human_health: human nutrition'\n",
    "]\n",
    "animal = [\n",
    "    'Animal: livestock', 'Animal: cattle', 'Animal: hog', 'Animal: pig',\n",
    "    'Animal: chicken', 'Animal: fish', 'Animal: animal feed', 'Animal: meat',\n",
    "    'Animal: dairy', 'Animal: beef', 'Animal: forage', 'Animal: animal'\n",
    "]\n",
    "bioenegry = ['Bioenegry: biofuel', 'Bioenegry: bioenergy']"
   ]
  },
  {
   "cell_type": "code",
   "execution_count": 16,
   "metadata": {
    "ExecuteTime": {
     "end_time": "2021-03-05T16:17:43.152591Z",
     "start_time": "2021-03-05T16:17:43.145457Z"
    }
   },
   "outputs": [],
   "source": [
    "df['Max_sub_category']=d.idxmax(axis=1)\n",
    "df['Max_Category']=df['Max_sub_category']"
   ]
  },
  {
   "cell_type": "code",
   "execution_count": 18,
   "metadata": {
    "ExecuteTime": {
     "end_time": "2021-03-05T16:19:07.123906Z",
     "start_time": "2021-03-05T16:19:07.100246Z"
    }
   },
   "outputs": [],
   "source": [
    "df.loc[df.Max_sub_category.isin(production),'Max_Category']='Production'\n",
    "df.loc[df.Max_sub_category.isin(bio_stress),'Max_Category']='Biological Stress'\n",
    "df.loc[df.Max_sub_category.isin(environment),'Max_Category']='Environment'\n",
    "df.loc[df.Max_sub_category.isin(cultivation),'Max_Category']='Cultivation'\n",
    "df.loc[df.Max_sub_category.isin(human_health),'Max_Category']='Human Health'\n",
    "df.loc[df.Max_sub_category.isin(animal),'Max_Category']='Animal'\n",
    "df.loc[df.Max_sub_category.isin(bioenegry),'Max_Category']='Bioenegry'"
   ]
  },
  {
   "cell_type": "code",
   "execution_count": 39,
   "metadata": {
    "ExecuteTime": {
     "end_time": "2021-03-05T18:56:12.025288Z",
     "start_time": "2021-03-05T18:56:11.806738Z"
    }
   },
   "outputs": [
    {
     "data": {
      "image/png": "[encoded data removed]",
      "text/plain": [
       "<Figure size 1440x720 with 1 Axes>"
      ]
     },
     "metadata": {},
     "output_type": "display_data"
    }
   ],
   "source": [
    "df.Max_Category.value_counts()\n",
    "sns.set(font_scale=1.4)\n",
    "fig = plt.figure(figsize=(20, 10))\n",
    "df.Max_Category.value_counts().plot(kind='bar', rot=0)\n",
    "plt.xlabel(\"Topic Categories\", labelpad=14)\n",
    "plt.ylabel(\"Count of Projects\", labelpad=14)\n",
    "plt.title(\"Count of Projects for each Topic Category\", y=1.02)\n",
    "plt.savefig('legume_topic_distribution.png')"
   ]
  },
  {
   "cell_type": "code",
   "execution_count": 27,
   "metadata": {
    "ExecuteTime": {
     "end_time": "2021-03-05T17:23:26.598600Z",
     "start_time": "2021-03-05T17:23:26.549316Z"
    }
   },
   "outputs": [
    {
     "data": {
      "text/html": [
       "<div>\n",
       "<style scoped>\n",
       "    .dataframe tbody tr th:only-of-type {\n",
       "        vertical-align: middle;\n",
       "    }\n",
       "\n",
       "    .dataframe tbody tr th {\n",
       "        vertical-align: top;\n",
       "    }\n",
       "\n",
       "    .dataframe thead th {\n",
       "        text-align: right;\n",
       "    }\n",
       "</style>\n",
       "<table border=\"1\" class=\"dataframe\">\n",
       "  <thead>\n",
       "    <tr style=\"text-align: right;\">\n",
       "      <th></th>\n",
       "      <th>Unnamed: 0</th>\n",
       "      <th>PROJECT_ID</th>\n",
       "      <th>PROJECT_TERMS</th>\n",
       "      <th>PROJECT_TITLE</th>\n",
       "      <th>DEPARTMENT</th>\n",
       "      <th>AGENCY</th>\n",
       "      <th>IC_CENTER</th>\n",
       "      <th>PROJECT_NUMBER</th>\n",
       "      <th>PROJECT_START_DATE</th>\n",
       "      <th>PROJECT_END_DATE</th>\n",
       "      <th>...</th>\n",
       "      <th>ORGANIZATION_ZIP</th>\n",
       "      <th>ORGANIZATION_COUNTRY</th>\n",
       "      <th>BUDGET_START_DATE</th>\n",
       "      <th>BUDGET_END_DATE</th>\n",
       "      <th>CFDA_CODE</th>\n",
       "      <th>FY</th>\n",
       "      <th>FY_TOTAL_COST</th>\n",
       "      <th>FY_TOTAL_COST_SUB_PROJECTS</th>\n",
       "      <th>ABSTRACT</th>\n",
       "      <th>Cat</th>\n",
       "    </tr>\n",
       "  </thead>\n",
       "  <tbody>\n",
       "    <tr>\n",
       "      <th>0</th>\n",
       "      <td>242</td>\n",
       "      <td>582571</td>\n",
       "      <td>Animals; Area; beef; Cattle; Complement; cost...</td>\n",
       "      <td>''BEEF CATTLE PRODUCTION ON GRASS-LEGUME MIXES...</td>\n",
       "      <td>USDA</td>\n",
       "      <td>NIFA</td>\n",
       "      <td>NaN</td>\n",
       "      <td>2009-55618-05082</td>\n",
       "      <td>9/1/2009</td>\n",
       "      <td>8/31/2013</td>\n",
       "      <td>...</td>\n",
       "      <td>72701-0000</td>\n",
       "      <td>UNITED STATES</td>\n",
       "      <td>NaN</td>\n",
       "      <td>NaN</td>\n",
       "      <td>10.212</td>\n",
       "      <td>2008</td>\n",
       "      <td>450000.0</td>\n",
       "      <td>NaN</td>\n",
       "      <td>High fertilizer and feed costs are the main re...</td>\n",
       "      <td>N/A</td>\n",
       "    </tr>\n",
       "    <tr>\n",
       "      <th>1</th>\n",
       "      <td>243</td>\n",
       "      <td>582620</td>\n",
       "      <td>agricultural center; Almond Nut; Apple; Arizo...</td>\n",
       "      <td>A MULTITASKING SENSOR PLATFORM FOR PRECISION M...</td>\n",
       "      <td>USDA</td>\n",
       "      <td>NIFA</td>\n",
       "      <td>NaN</td>\n",
       "      <td>2008-51180-04884</td>\n",
       "      <td>5/1/2008</td>\n",
       "      <td>12/31/2009</td>\n",
       "      <td>...</td>\n",
       "      <td>95618-6134</td>\n",
       "      <td>UNITED STATES</td>\n",
       "      <td>NaN</td>\n",
       "      <td>NaN</td>\n",
       "      <td>10.212</td>\n",
       "      <td>2008</td>\n",
       "      <td>99994.0</td>\n",
       "      <td>NaN</td>\n",
       "      <td>This planning proposal assembles a trans-disci...</td>\n",
       "      <td>N/A</td>\n",
       "    </tr>\n",
       "    <tr>\n",
       "      <th>2</th>\n",
       "      <td>244</td>\n",
       "      <td>582632</td>\n",
       "      <td>Address; Adopted; Aubergine; base; bean; Cali...</td>\n",
       "      <td>MULTI-FACETED APPROACH FOR SOIL DETECTION AND ...</td>\n",
       "      <td>USDA</td>\n",
       "      <td>NIFA</td>\n",
       "      <td>NaN</td>\n",
       "      <td>2008-51180-04881</td>\n",
       "      <td>6/1/2008</td>\n",
       "      <td>1/31/2010</td>\n",
       "      <td>...</td>\n",
       "      <td>48824-1046</td>\n",
       "      <td>UNITED STATES</td>\n",
       "      <td>NaN</td>\n",
       "      <td>NaN</td>\n",
       "      <td>10.212</td>\n",
       "      <td>2008</td>\n",
       "      <td>555185.0</td>\n",
       "      <td>NaN</td>\n",
       "      <td>The goal of this project is to develop and imp...</td>\n",
       "      <td>N/A</td>\n",
       "    </tr>\n",
       "    <tr>\n",
       "      <th>3</th>\n",
       "      <td>245</td>\n",
       "      <td>582731</td>\n",
       "      <td>Address; Adolescent; American; Breeding; Chin...</td>\n",
       "      <td>EVALUATING ENVIRONMENTAL IMPACTS OF TRANSGENIC...</td>\n",
       "      <td>USDA</td>\n",
       "      <td>NIFA</td>\n",
       "      <td>NaN</td>\n",
       "      <td>2008-39211-19564</td>\n",
       "      <td>10/1/2013</td>\n",
       "      <td>9/30/2015</td>\n",
       "      <td>...</td>\n",
       "      <td>13210-2712</td>\n",
       "      <td>UNITED STATES</td>\n",
       "      <td>NaN</td>\n",
       "      <td>NaN</td>\n",
       "      <td>10.203</td>\n",
       "      <td>2008</td>\n",
       "      <td>379980.0</td>\n",
       "      <td>NaN</td>\n",
       "      <td>We have a unique opportunity to develop protoc...</td>\n",
       "      <td>N/A</td>\n",
       "    </tr>\n",
       "    <tr>\n",
       "      <th>4</th>\n",
       "      <td>246</td>\n",
       "      <td>582780</td>\n",
       "      <td>Adoption; Agriculture; Agrochemicals; Apple; ...</td>\n",
       "      <td>POTATO PEST MANAGEMENT, WI</td>\n",
       "      <td>USDA</td>\n",
       "      <td>NIFA</td>\n",
       "      <td>NaN</td>\n",
       "      <td>2008-45053-04754</td>\n",
       "      <td>10/1/2013</td>\n",
       "      <td>9/30/2015</td>\n",
       "      <td>...</td>\n",
       "      <td>53706-1415</td>\n",
       "      <td>UNITED STATES</td>\n",
       "      <td>NaN</td>\n",
       "      <td>NaN</td>\n",
       "      <td>10.202</td>\n",
       "      <td>2008</td>\n",
       "      <td>282903.0</td>\n",
       "      <td>NaN</td>\n",
       "      <td>Outreach and education targeted specifically a...</td>\n",
       "      <td>N/A</td>\n",
       "    </tr>\n",
       "  </tbody>\n",
       "</table>\n",
       "<p>5 rows × 27 columns</p>\n",
       "</div>"
      ],
      "text/plain": [
       "   Unnamed: 0  PROJECT_ID                                      PROJECT_TERMS  \\\n",
       "0         242      582571   Animals; Area; beef; Cattle; Complement; cost...   \n",
       "1         243      582620   agricultural center; Almond Nut; Apple; Arizo...   \n",
       "2         244      582632   Address; Adopted; Aubergine; base; bean; Cali...   \n",
       "3         245      582731   Address; Adolescent; American; Breeding; Chin...   \n",
       "4         246      582780   Adoption; Agriculture; Agrochemicals; Apple; ...   \n",
       "\n",
       "                                       PROJECT_TITLE DEPARTMENT AGENCY  \\\n",
       "0  ''BEEF CATTLE PRODUCTION ON GRASS-LEGUME MIXES...       USDA   NIFA   \n",
       "1  A MULTITASKING SENSOR PLATFORM FOR PRECISION M...       USDA   NIFA   \n",
       "2  MULTI-FACETED APPROACH FOR SOIL DETECTION AND ...       USDA   NIFA   \n",
       "3  EVALUATING ENVIRONMENTAL IMPACTS OF TRANSGENIC...       USDA   NIFA   \n",
       "4                         POTATO PEST MANAGEMENT, WI       USDA   NIFA   \n",
       "\n",
       "  IC_CENTER    PROJECT_NUMBER PROJECT_START_DATE PROJECT_END_DATE  ...  \\\n",
       "0       NaN  2009-55618-05082           9/1/2009        8/31/2013  ...   \n",
       "1       NaN  2008-51180-04884           5/1/2008       12/31/2009  ...   \n",
       "2       NaN  2008-51180-04881           6/1/2008        1/31/2010  ...   \n",
       "3       NaN  2008-39211-19564          10/1/2013        9/30/2015  ...   \n",
       "4       NaN  2008-45053-04754          10/1/2013        9/30/2015  ...   \n",
       "\n",
       "  ORGANIZATION_ZIP ORGANIZATION_COUNTRY  BUDGET_START_DATE  BUDGET_END_DATE  \\\n",
       "0       72701-0000        UNITED STATES                NaN              NaN   \n",
       "1       95618-6134        UNITED STATES                NaN              NaN   \n",
       "2       48824-1046        UNITED STATES                NaN              NaN   \n",
       "3       13210-2712        UNITED STATES                NaN              NaN   \n",
       "4       53706-1415        UNITED STATES                NaN              NaN   \n",
       "\n",
       "  CFDA_CODE    FY FY_TOTAL_COST FY_TOTAL_COST_SUB_PROJECTS  \\\n",
       "0    10.212  2008      450000.0                        NaN   \n",
       "1    10.212  2008       99994.0                        NaN   \n",
       "2    10.212  2008      555185.0                        NaN   \n",
       "3    10.203  2008      379980.0                        NaN   \n",
       "4    10.202  2008      282903.0                        NaN   \n",
       "\n",
       "                                            ABSTRACT  Cat  \n",
       "0  High fertilizer and feed costs are the main re...  N/A  \n",
       "1  This planning proposal assembles a trans-disci...  N/A  \n",
       "2  The goal of this project is to develop and imp...  N/A  \n",
       "3  We have a unique opportunity to develop protoc...  N/A  \n",
       "4  Outreach and education targeted specifically a...  N/A  \n",
       "\n",
       "[5 rows x 27 columns]"
      ]
     },
     "execution_count": 27,
     "metadata": {},
     "output_type": "execute_result"
    }
   ],
   "source": [
    "temp=pd.read_csv('legume_no_zero_duplicates.csv')\n",
    "temp['Cat']='N/A'\n",
    "temp.head()"
   ]
  },
  {
   "cell_type": "code",
   "execution_count": 29,
   "metadata": {
    "ExecuteTime": {
     "end_time": "2021-03-05T17:24:06.997821Z",
     "start_time": "2021-03-05T17:24:06.842313Z"
    }
   },
   "outputs": [],
   "source": [
    "temp.loc[((temp['ABSTRACT'].str.contains(r'\\bnuts') | temp['PROJECT_TERMS'].str.contains(r'\\bnuts')| \n",
    "           temp['PROJECT_TITLE'].str.contains(r'\\bnuts') |temp['ABSTRACT'].str.contains(r'\\bNuts') | \n",
    "           temp['PROJECT_TERMS'].str.contains(r'\\bNuts')| temp['PROJECT_TITLE'].str.contains(r'\\bNuts'))&\n",
    "           ((temp['ABSTRACT'].str.contains(r'\\bpeanuts')==False) | (temp['PROJECT_TERMS'].str.contains(r'\\bpeanuts')==False)| \n",
    "           (temp['PROJECT_TITLE'].str.contains(r'\\bpeanuts')==False) |(temp['ABSTRACT'].str.contains(r'\\bPeanuts')==False) | \n",
    "           (temp['PROJECT_TERMS'].str.contains(r'\\bPeanuts')==False)| (temp['PROJECT_TITLE'].str.contains(r'\\bPeanuts')==False))),'Cat']='Nuts but No Peanuts'\n",
    "temp.loc[((temp['ABSTRACT'].str.contains(r'\\bpeanuts') | temp['PROJECT_TERMS'].str.contains(r'\\bpeanuts')| \n",
    "           temp['PROJECT_TITLE'].str.contains(r'\\bpeanuts') |temp['ABSTRACT'].str.contains(r'\\bPeanuts') | \n",
    "           temp['PROJECT_TERMS'].str.contains(r'\\bPeanuts')| temp['PROJECT_TITLE'].str.contains(r'\\bPeanuts'))),'Cat']='Peanuts'\n",
    "           "
   ]
  },
  {
   "cell_type": "code",
   "execution_count": 37,
   "metadata": {
    "ExecuteTime": {
     "end_time": "2021-03-05T18:55:43.220588Z",
     "start_time": "2021-03-05T18:55:43.030153Z"
    }
   },
   "outputs": [
    {
     "data": {
      "image/png": "[encoded data removed]",
      "text/plain": [
       "<Figure size 1080x720 with 1 Axes>"
      ]
     },
     "metadata": {},
     "output_type": "display_data"
    }
   ],
   "source": [
    "df.Max_Category.value_counts()\n",
    "sns.set(font_scale=1.4)\n",
    "fig = plt.figure(figsize=(15, 10))\n",
    "temp.Cat.value_counts().plot(kind='bar', rot=0)\n",
    "plt.xlabel(\"Categories\", labelpad=14)\n",
    "plt.ylabel(\"Count of Projects\", labelpad=14)\n",
    "plt.title(\"Count of Projects for each Category\", y=1.02)\n",
    "plt.savefig('legume_distribution.png')"
   ]
  },
  {
   "cell_type": "code",
   "execution_count": null,
   "metadata": {},
   "outputs": [],
   "source": []
  }
 ],
 "metadata": {
  "kernelspec": {
   "display_name": "Python 3",
   "language": "python",
   "name": "python3"
  },
  "language_info": {
   "codemirror_mode": {
    "name": "ipython",
    "version": 3
   },
   "file_extension": ".py",
   "mimetype": "text/x-python",
   "name": "python",
   "nbconvert_exporter": "python",
   "pygments_lexer": "ipython3",
   "version": "3.8.3"
  },
  "toc": {
   "base_numbering": 1,
   "nav_menu": {},
   "number_sections": true,
   "sideBar": true,
   "skip_h1_title": false,
   "title_cell": "Table of Contents",
   "title_sidebar": "Contents",
   "toc_cell": false,
   "toc_position": {},
   "toc_section_display": true,
   "toc_window_display": false
  }
 },
 "nbformat": 4,
 "nbformat_minor": 4
}
