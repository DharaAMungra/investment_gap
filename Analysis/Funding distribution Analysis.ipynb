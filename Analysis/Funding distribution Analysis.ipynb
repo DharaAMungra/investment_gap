{
 "cells": [
  {
   "cell_type": "code",
   "execution_count": 7,
   "metadata": {
    "ExecuteTime": {
     "end_time": "2021-03-05T15:50:26.216824Z",
     "start_time": "2021-03-05T15:50:26.209262Z"
    }
   },
   "outputs": [],
   "source": [
    "import numpy as np\n",
    "import pandas as pd\n",
    "from os import path\n",
    "from PIL import Image\n",
    "from wordcloud import WordCloud, STOPWORDS, ImageColorGenerator\n",
    "import seaborn as sns\n",
    "import matplotlib.pyplot as plt\n",
    "%matplotlib inline\n",
    "import string \n",
    "import operator"
   ]
  },
  {
   "cell_type": "code",
   "execution_count": 2,
   "metadata": {
    "ExecuteTime": {
     "end_time": "2021-03-05T15:46:40.573257Z",
     "start_time": "2021-03-05T15:46:40.329328Z"
    }
   },
   "outputs": [],
   "source": [
    "barley=pd.read_csv('barley_no_zero_duplicates.csv')\n",
    "#bean=pd.read_csv('bean_no_zero_duplicates.csv')\n",
    "corn_maize=pd.read_csv('corn_maize_no_zero_duplicates.csv')\n",
    "#edamame=pd.read_csv('edamame_no_zero_duplicates.csv')\n",
    "#lentil=pd.read_csv('lentil_no_zero_duplicates.csv')\n",
    "millet=pd.read_csv('millet_no_zero_duplicates.csv')\n",
    "#nut=pd.read_csv('nut_no_zero_duplicates.csv')\n",
    "oat=pd.read_csv('oat_no_zero_duplicates.csv')\n",
    "#pea=pd.read_csv('pea_no_zero_duplicates.csv')\n",
    "potato=pd.read_csv('potato_no_zero_duplicates.csv')\n",
    "quinoa=pd.read_csv('quinoa_no_zero_duplicates.csv')\n",
    "rice=pd.read_csv('rice_no_zero_duplicates.csv')\n",
    "rye=pd.read_csv('rye_no_zero_duplicates.csv')\n",
    "sorghum=pd.read_csv('sorghum_no_zero_duplicates.csv')\n",
    "soybean=pd.read_csv('soybean_no_zero_duplicates.csv')\n",
    "wheat=pd.read_csv('wheat_no_zero_duplicates.csv')\n",
    "legume=pd.read_csv('legume_no_zero_duplicates.csv')\n",
    "whole=pd.read_csv('all_no_zero_duplicates.csv')"
   ]
  },
  {
   "cell_type": "code",
   "execution_count": 3,
   "metadata": {
    "ExecuteTime": {
     "end_time": "2021-03-05T15:46:40.580279Z",
     "start_time": "2021-03-05T15:46:40.575826Z"
    }
   },
   "outputs": [
    {
     "data": {
      "text/plain": [
       "(491, 25)"
      ]
     },
     "execution_count": 3,
     "metadata": {},
     "output_type": "execute_result"
    }
   ],
   "source": [
    "wheat.shape"
   ]
  },
  {
   "cell_type": "code",
   "execution_count": 4,
   "metadata": {
    "ExecuteTime": {
     "end_time": "2021-03-05T15:46:40.603567Z",
     "start_time": "2021-03-05T15:46:40.582661Z"
    }
   },
   "outputs": [
    {
     "data": {
      "text/html": [
       "<div>\n",
       "<style scoped>\n",
       "    .dataframe tbody tr th:only-of-type {\n",
       "        vertical-align: middle;\n",
       "    }\n",
       "\n",
       "    .dataframe tbody tr th {\n",
       "        vertical-align: top;\n",
       "    }\n",
       "\n",
       "    .dataframe thead th {\n",
       "        text-align: right;\n",
       "    }\n",
       "</style>\n",
       "<table border=\"1\" class=\"dataframe\">\n",
       "  <thead>\n",
       "    <tr style=\"text-align: right;\">\n",
       "      <th></th>\n",
       "      <th>PROJECT_ID</th>\n",
       "      <th>PROJECT_TERMS</th>\n",
       "      <th>PROJECT_TITLE</th>\n",
       "      <th>DEPARTMENT</th>\n",
       "      <th>AGENCY</th>\n",
       "      <th>IC_CENTER</th>\n",
       "      <th>PROJECT_NUMBER</th>\n",
       "      <th>PROJECT_START_DATE</th>\n",
       "      <th>PROJECT_END_DATE</th>\n",
       "      <th>CONTACT_PI_PROJECT_LEADER</th>\n",
       "      <th>...</th>\n",
       "      <th>ORGANIZATION_STATE</th>\n",
       "      <th>ORGANIZATION_ZIP</th>\n",
       "      <th>ORGANIZATION_COUNTRY</th>\n",
       "      <th>BUDGET_START_DATE</th>\n",
       "      <th>BUDGET_END_DATE</th>\n",
       "      <th>CFDA_CODE</th>\n",
       "      <th>FY</th>\n",
       "      <th>FY_TOTAL_COST</th>\n",
       "      <th>FY_TOTAL_COST_SUB_PROJECTS</th>\n",
       "      <th>ABSTRACT</th>\n",
       "    </tr>\n",
       "  </thead>\n",
       "  <tbody>\n",
       "    <tr>\n",
       "      <th>0</th>\n",
       "      <td>582541</td>\n",
       "      <td>Agriculture; Area; biosecurity; Blast Cell; C...</td>\n",
       "      <td>GENOME-ENABLED DIAGNOSIS OF THE WHEAT BLAST PA...</td>\n",
       "      <td>USDA</td>\n",
       "      <td>NIFA</td>\n",
       "      <td>NaN</td>\n",
       "      <td>2009-55605-05201</td>\n",
       "      <td>9/1/2009</td>\n",
       "      <td>12/31/2012</td>\n",
       "      <td>VALENT, BARBARA</td>\n",
       "      <td>...</td>\n",
       "      <td>KS</td>\n",
       "      <td>66506-1100</td>\n",
       "      <td>UNITED STATES</td>\n",
       "      <td>NaN</td>\n",
       "      <td>NaN</td>\n",
       "      <td>10.212</td>\n",
       "      <td>2008</td>\n",
       "      <td>999688.0</td>\n",
       "      <td>NaN</td>\n",
       "      <td>Wheat blast, currently a serious disease on wh...</td>\n",
       "    </tr>\n",
       "    <tr>\n",
       "      <th>1</th>\n",
       "      <td>582558</td>\n",
       "      <td>Agriculture; Alleles; Breeding; Chemicals; Ch...</td>\n",
       "      <td>MOLECULAR GENETIC INTERACTIONS OF WHEAT RESIST...</td>\n",
       "      <td>USDA</td>\n",
       "      <td>NIFA</td>\n",
       "      <td>NaN</td>\n",
       "      <td>2009-35302-05262</td>\n",
       "      <td>9/1/2008</td>\n",
       "      <td>8/31/2012</td>\n",
       "      <td>STUART, JEFFREY J</td>\n",
       "      <td>...</td>\n",
       "      <td>IN</td>\n",
       "      <td>47907-2024</td>\n",
       "      <td>UNITED STATES</td>\n",
       "      <td>NaN</td>\n",
       "      <td>NaN</td>\n",
       "      <td>10.206</td>\n",
       "      <td>2008</td>\n",
       "      <td>331511.0</td>\n",
       "      <td>NaN</td>\n",
       "      <td>Many agricultural insect pests are controlled ...</td>\n",
       "    </tr>\n",
       "    <tr>\n",
       "      <th>2</th>\n",
       "      <td>582582</td>\n",
       "      <td>Address; Africa; Arts; base; biosecurity; Col...</td>\n",
       "      <td>THE INCURSION OF NEW WHEAT STEM RUST RACES INT...</td>\n",
       "      <td>USDA</td>\n",
       "      <td>NIFA</td>\n",
       "      <td>NaN</td>\n",
       "      <td>2009-55605-05049</td>\n",
       "      <td>9/1/2009</td>\n",
       "      <td>1/31/2012</td>\n",
       "      <td>ISARD, SCOTT</td>\n",
       "      <td>...</td>\n",
       "      <td>PA</td>\n",
       "      <td>16802-1505</td>\n",
       "      <td>UNITED STATES</td>\n",
       "      <td>NaN</td>\n",
       "      <td>NaN</td>\n",
       "      <td>10.212</td>\n",
       "      <td>2008</td>\n",
       "      <td>993692.0</td>\n",
       "      <td>NaN</td>\n",
       "      <td>New races of the wheat stem rust pathogen (Ug9...</td>\n",
       "    </tr>\n",
       "    <tr>\n",
       "      <th>3</th>\n",
       "      <td>582600</td>\n",
       "      <td>Agriculture; Anabolism; Cotyledon plant; Goal...</td>\n",
       "      <td>DELIMITING LEAF STARCH BIOSYNTHESIS IN WHEAT T...</td>\n",
       "      <td>USDA</td>\n",
       "      <td>NIFA</td>\n",
       "      <td>NaN</td>\n",
       "      <td>2009-35318-05050</td>\n",
       "      <td>7/1/2008</td>\n",
       "      <td>6/30/2011</td>\n",
       "      <td>GIROUX, MICHAEL</td>\n",
       "      <td>...</td>\n",
       "      <td>MT</td>\n",
       "      <td>59717-0001</td>\n",
       "      <td>UNITED STATES</td>\n",
       "      <td>NaN</td>\n",
       "      <td>NaN</td>\n",
       "      <td>10.206</td>\n",
       "      <td>2008</td>\n",
       "      <td>177282.0</td>\n",
       "      <td>NaN</td>\n",
       "      <td>The goal of our research is to comprehensively...</td>\n",
       "    </tr>\n",
       "    <tr>\n",
       "      <th>4</th>\n",
       "      <td>582606</td>\n",
       "      <td>Address; Aphids; Businesses; Chemicals; Color...</td>\n",
       "      <td>IMPROVING CANOLA ADAPTATION USING DEFICIT IRRI...</td>\n",
       "      <td>USDA</td>\n",
       "      <td>NIFA</td>\n",
       "      <td>NaN</td>\n",
       "      <td>2008-38624-19592</td>\n",
       "      <td>10/1/2012</td>\n",
       "      <td>9/30/2014</td>\n",
       "      <td>TROSTLE, CALVIN</td>\n",
       "      <td>...</td>\n",
       "      <td>TX</td>\n",
       "      <td>77843-0001</td>\n",
       "      <td>UNITED STATES</td>\n",
       "      <td>NaN</td>\n",
       "      <td>NaN</td>\n",
       "      <td>10.207</td>\n",
       "      <td>2008</td>\n",
       "      <td>81057.0</td>\n",
       "      <td>NaN</td>\n",
       "      <td>Canola has emerged as a crop that merits a clo...</td>\n",
       "    </tr>\n",
       "  </tbody>\n",
       "</table>\n",
       "<p>5 rows × 25 columns</p>\n",
       "</div>"
      ],
      "text/plain": [
       "   PROJECT_ID                                      PROJECT_TERMS  \\\n",
       "0      582541   Agriculture; Area; biosecurity; Blast Cell; C...   \n",
       "1      582558   Agriculture; Alleles; Breeding; Chemicals; Ch...   \n",
       "2      582582   Address; Africa; Arts; base; biosecurity; Col...   \n",
       "3      582600   Agriculture; Anabolism; Cotyledon plant; Goal...   \n",
       "4      582606   Address; Aphids; Businesses; Chemicals; Color...   \n",
       "\n",
       "                                       PROJECT_TITLE DEPARTMENT AGENCY  \\\n",
       "0  GENOME-ENABLED DIAGNOSIS OF THE WHEAT BLAST PA...       USDA   NIFA   \n",
       "1  MOLECULAR GENETIC INTERACTIONS OF WHEAT RESIST...       USDA   NIFA   \n",
       "2  THE INCURSION OF NEW WHEAT STEM RUST RACES INT...       USDA   NIFA   \n",
       "3  DELIMITING LEAF STARCH BIOSYNTHESIS IN WHEAT T...       USDA   NIFA   \n",
       "4  IMPROVING CANOLA ADAPTATION USING DEFICIT IRRI...       USDA   NIFA   \n",
       "\n",
       "  IC_CENTER    PROJECT_NUMBER PROJECT_START_DATE PROJECT_END_DATE  \\\n",
       "0       NaN  2009-55605-05201           9/1/2009       12/31/2012   \n",
       "1       NaN  2009-35302-05262           9/1/2008        8/31/2012   \n",
       "2       NaN  2009-55605-05049           9/1/2009        1/31/2012   \n",
       "3       NaN  2009-35318-05050           7/1/2008        6/30/2011   \n",
       "4       NaN  2008-38624-19592          10/1/2012        9/30/2014   \n",
       "\n",
       "  CONTACT_PI_PROJECT_LEADER  ... ORGANIZATION_STATE  ORGANIZATION_ZIP  \\\n",
       "0           VALENT, BARBARA  ...                 KS        66506-1100   \n",
       "1         STUART, JEFFREY J  ...                 IN        47907-2024   \n",
       "2              ISARD, SCOTT  ...                 PA        16802-1505   \n",
       "3           GIROUX, MICHAEL  ...                 MT        59717-0001   \n",
       "4           TROSTLE, CALVIN  ...                 TX        77843-0001   \n",
       "\n",
       "  ORGANIZATION_COUNTRY BUDGET_START_DATE BUDGET_END_DATE CFDA_CODE    FY  \\\n",
       "0        UNITED STATES               NaN             NaN    10.212  2008   \n",
       "1        UNITED STATES               NaN             NaN    10.206  2008   \n",
       "2        UNITED STATES               NaN             NaN    10.212  2008   \n",
       "3        UNITED STATES               NaN             NaN    10.206  2008   \n",
       "4        UNITED STATES               NaN             NaN    10.207  2008   \n",
       "\n",
       "  FY_TOTAL_COST  FY_TOTAL_COST_SUB_PROJECTS  \\\n",
       "0      999688.0                         NaN   \n",
       "1      331511.0                         NaN   \n",
       "2      993692.0                         NaN   \n",
       "3      177282.0                         NaN   \n",
       "4       81057.0                         NaN   \n",
       "\n",
       "                                            ABSTRACT  \n",
       "0  Wheat blast, currently a serious disease on wh...  \n",
       "1  Many agricultural insect pests are controlled ...  \n",
       "2  New races of the wheat stem rust pathogen (Ug9...  \n",
       "3  The goal of our research is to comprehensively...  \n",
       "4  Canola has emerged as a crop that merits a clo...  \n",
       "\n",
       "[5 rows x 25 columns]"
      ]
     },
     "execution_count": 4,
     "metadata": {},
     "output_type": "execute_result"
    }
   ],
   "source": [
    "wheat.head()"
   ]
  },
  {
   "cell_type": "code",
   "execution_count": 5,
   "metadata": {
    "ExecuteTime": {
     "end_time": "2021-03-05T15:46:41.530502Z",
     "start_time": "2021-03-05T15:46:41.506715Z"
    }
   },
   "outputs": [],
   "source": [
    "def analysis(dataframe,filename,crop):\n",
    "    print('total number of projects for '+crop,dataframe.shape[0])\n",
    "    print('total number of projects with no funding for '+crop,dataframe['FY_TOTAL_COST'].isna().sum())\n",
    "    \n",
    "    \n",
    "    # word count store in csv\n",
    "\n",
    "    d = dict() \n",
    "\n",
    "    # Loop through each line of the file \n",
    "    for line in dataframe['PROJECT_TERMS']: \n",
    "        # Remove the leading spaces and newline character \n",
    "        line = str(line).strip() \n",
    "\n",
    "        # Convert the characters in line to  \n",
    "        # lowercase to avoid case mismatch \n",
    "        line = line.lower() \n",
    "\n",
    "        # Remove the punctuation marks from the line \n",
    "        line = line.translate(line.maketrans(\"\", \"\", string.punctuation)) \n",
    "\n",
    "        # Split the line into words \n",
    "        words = line.split(\" \") \n",
    "\n",
    "        # Iterate over each word in line \n",
    "        for word in words: \n",
    "            # Check if the word is already in dictionary \n",
    "            if word in d: \n",
    "                # Increment count of word by 1 \n",
    "                d[word] = d[word] + 1\n",
    "            else: \n",
    "                # Add the word to dictionary with count 1 \n",
    "                d[word] = 1\n",
    "    #Print the contents of dictionary \n",
    "    sorted_d = dict(sorted(d.items(), key=operator.itemgetter(1),reverse=True))\n",
    "    df = pd.DataFrame.from_dict(sorted_d, orient=\"index\")\n",
    "    temp=filename+'.csv'\n",
    "    df.to_csv(temp)\n",
    "    \n",
    "    # word cloud\n",
    "    text = \" \".join(str(review) for review in dataframe['PROJECT_TERMS'])\n",
    "    print (\"There are {} words in the combination of \".format(len(text))+crop+\" review.\")\n",
    "    \n",
    "    #stopwords = set(STOPWORDS)\n",
    "    stopwords=([\"wheat\", \"soy\", \"maize\", \"pulses\", \"legumes\",\"beans\",\"corn\",\"coarse_grains\",\"potato\",'pulse',\n",
    "                      \"public health\",\"Research\",'United States','study','Research Research','Research Personnel'])\n",
    "\n",
    "    # Generate a word cloud image\n",
    "    wordcloud = WordCloud(stopwords=stopwords, background_color=\"white\").generate(text)\n",
    "\n",
    "    # Display the generated image:\n",
    "    # the matplotlib way:\n",
    "    fig = plt.figure(figsize = (10,10))\n",
    "    plt.imshow(wordcloud, interpolation='bilinear')\n",
    "    plt.axis(\"off\")\n",
    "    #plt.show()\n",
    "    temp=filename+'_count.png'\n",
    "    plt.savefig(temp)\n",
    "    plt.close(fig)\n",
    "    \n",
    "    # agency wise funcding for each crop\n",
    "    fig = plt.figure(figsize = (10,10))\n",
    "    dataframe.groupby(['AGENCY'])['FY_TOTAL_COST'].sum().plot(kind='bar',title='Agency based funding for '+crop,figsize = (10,10))\n",
    "    #plt.legend()\n",
    "    #plt.xlabel('Time.year')\n",
    "    #plt.ylabel('Total number of flights in the range of 1000000')\n",
    "    temp=filename+'_agency_funding.png'\n",
    "    plt.savefig(temp)\n",
    "    plt.close(fig)\n",
    "    \n",
    "    # yearly funcding for each crop\n",
    "    fig = plt.figure(figsize = (10,10))\n",
    "    dataframe.groupby(['FY'])['FY_TOTAL_COST'].sum().plot(kind='bar',title='Yearly based funding for '+crop,figsize = (10,10))\n",
    "    temp=filename+'_yearly_funding.png'\n",
    "    plt.savefig(temp)\n",
    "    plt.close(fig)\n",
    "    \n",
    "    # zero and non-zero projects for each agency and each crop\n",
    "    print('total projects',dataframe.shape[0])\n",
    "    print('count of non-zero funded projects',sum(dataframe.groupby(['AGENCY'])['FY_TOTAL_COST'].count().to_list()))\n",
    "    print('count of zero fundings project',sum(dataframe['FY_TOTAL_COST'].isnull().groupby([dataframe['AGENCY']]).sum().astype(int).to_list()))\n",
    "\n",
    "    count=dataframe.groupby(['AGENCY'])['FY_TOTAL_COST'].count()\n",
    "\n",
    "    df = pd.DataFrame({\"Count\":count})\n",
    "    fig = plt.figure(figsize = (10,10))\n",
    "    ax = df.plot.bar(color=[\"SkyBlue\"], title=\"Agency vs project counts for \"+crop)\n",
    "    ax.set_xlabel(\"Agency\")\n",
    "    ax.set_ylabel(\"counts\")\n",
    "    #ax.xaxis.set_major_formatter(plt.FixedFormatter(times.strftime(\"%b %d %Y\")))\n",
    "    #plt.show()\n",
    "    temp=filename+'_agency_project_count.png'\n",
    "    plt.savefig(temp)\n",
    "    plt.close(fig)\n",
    "    \n",
    "    \n",
    "    # zero and non-zero duplicates count\n",
    "    wh=dataframe[dataframe['PROJECT_NUMBER'].duplicated() == True]\n",
    "    print('Zero funding project in duplicates',wh['FY_TOTAL_COST'].isna().sum())\n",
    "    print('Non zero funding project in duplicates',len(wh['FY_TOTAL_COST'])-wh['FY_TOTAL_COST'].isna().sum())\n",
    "    \n",
    "    print('----')\n",
    "    print('----')\n"
   ]
  },
  {
   "cell_type": "code",
   "execution_count": 6,
   "metadata": {
    "ExecuteTime": {
     "end_time": "2021-03-05T15:46:50.881952Z",
     "start_time": "2021-03-05T15:46:42.425804Z"
    }
   },
   "outputs": [
    {
     "name": "stdout",
     "output_type": "stream",
     "text": [
      "total number of projects for barley 186\n",
      "total number of projects with no funding for barley 0\n",
      "There are 87412 words in the combination of barley review.\n",
      "total projects 186\n",
      "count of non-zero funded projects 186\n",
      "count of zero fundings project 0\n",
      "Zero funding project in duplicates 0\n",
      "Non zero funding project in duplicates 37\n",
      "----\n",
      "----\n",
      "total number of projects for corn_maize 834\n",
      "total number of projects with no funding for corn_maize 0\n",
      "There are 387095 words in the combination of corn_maize review.\n",
      "total projects 834\n",
      "count of non-zero funded projects 834\n",
      "count of zero fundings project 0\n",
      "Zero funding project in duplicates 0\n",
      "Non zero funding project in duplicates 94\n",
      "----\n",
      "----\n",
      "total number of projects for millet 16\n",
      "total number of projects with no funding for millet 0\n",
      "There are 8173 words in the combination of millet review.\n",
      "total projects 16\n",
      "count of non-zero funded projects 16\n",
      "count of zero fundings project 0\n",
      "Zero funding project in duplicates 0\n",
      "Non zero funding project in duplicates 1\n",
      "----\n",
      "----\n",
      "total number of projects for oat 88\n",
      "total number of projects with no funding for oat 0\n",
      "There are 44675 words in the combination of oat review.\n",
      "total projects 88\n",
      "count of non-zero funded projects 88\n",
      "count of zero fundings project 0\n",
      "Zero funding project in duplicates 0\n",
      "Non zero funding project in duplicates 17\n",
      "----\n",
      "----\n",
      "total number of projects for legume 637\n",
      "total number of projects with no funding for legume 0\n",
      "There are 308928 words in the combination of legume review.\n",
      "total projects 637\n",
      "count of non-zero funded projects 637\n",
      "count of zero fundings project 0\n",
      "Zero funding project in duplicates 0\n",
      "Non zero funding project in duplicates 72\n",
      "----\n",
      "----\n",
      "total number of projects for potato 283\n",
      "total number of projects with no funding for potato 0\n",
      "There are 127393 words in the combination of potato review.\n",
      "total projects 283\n",
      "count of non-zero funded projects 283\n",
      "count of zero fundings project 0\n",
      "Zero funding project in duplicates 0\n",
      "Non zero funding project in duplicates 31\n",
      "----\n",
      "----\n",
      "total number of projects for quinoa 5\n",
      "total number of projects with no funding for quinoa 0\n",
      "There are 2950 words in the combination of quinoa review.\n",
      "total projects 5\n",
      "count of non-zero funded projects 5\n",
      "count of zero fundings project 0\n",
      "Zero funding project in duplicates 0\n",
      "Non zero funding project in duplicates 0\n",
      "----\n",
      "----\n",
      "total number of projects for rice 250\n",
      "total number of projects with no funding for rice 0\n",
      "There are 117692 words in the combination of rice review.\n",
      "total projects 250\n",
      "count of non-zero funded projects 250\n",
      "count of zero fundings project 0\n",
      "Zero funding project in duplicates 0\n",
      "Non zero funding project in duplicates 21\n",
      "----\n",
      "----\n",
      "total number of projects for rye 49\n",
      "total number of projects with no funding for rye 0\n",
      "There are 24685 words in the combination of rye review.\n",
      "total projects 49\n",
      "count of non-zero funded projects 49\n",
      "count of zero fundings project 0\n",
      "Zero funding project in duplicates 0\n",
      "Non zero funding project in duplicates 5\n",
      "----\n",
      "----\n",
      "total number of projects for sorghum 208\n",
      "total number of projects with no funding for sorghum 0\n",
      "There are 91910 words in the combination of sorghum review.\n",
      "total projects 208\n",
      "count of non-zero funded projects 208\n",
      "count of zero fundings project 0\n",
      "Zero funding project in duplicates 0\n",
      "Non zero funding project in duplicates 35\n",
      "----\n",
      "----\n",
      "total number of projects for soybean 569\n",
      "total number of projects with no funding for soybean 0\n",
      "There are 266501 words in the combination of soybean review.\n",
      "total projects 569\n",
      "count of non-zero funded projects 569\n",
      "count of zero fundings project 0\n",
      "Zero funding project in duplicates 0\n",
      "Non zero funding project in duplicates 76\n",
      "----\n",
      "----\n",
      "total number of projects for wheat 491\n",
      "total number of projects with no funding for wheat 0\n",
      "There are 228480 words in the combination of wheat review.\n",
      "total projects 491\n",
      "count of non-zero funded projects 491\n",
      "count of zero fundings project 0\n",
      "Zero funding project in duplicates 0\n",
      "Non zero funding project in duplicates 71\n",
      "----\n",
      "----\n",
      "total number of projects for whole 3616\n",
      "total number of projects with no funding for whole 0\n",
      "There are 1695905 words in the combination of whole review.\n",
      "total projects 3616\n",
      "count of non-zero funded projects 3616\n",
      "count of zero fundings project 0\n",
      "Zero funding project in duplicates 0\n",
      "Non zero funding project in duplicates 1480\n",
      "----\n",
      "----\n"
     ]
    },
    {
     "data": {
      "image/png": "[encoded data removed]",
      "text/plain": [
       "<Figure size 432x288 with 1 Axes>"
      ]
     },
     "metadata": {
      "needs_background": "light"
     },
     "output_type": "display_data"
    },
    {
     "data": {
      "image/png": "[encoded data removed]",
      "text/plain": [
       "<Figure size 432x288 with 1 Axes>"
      ]
     },
     "metadata": {
      "needs_background": "light"
     },
     "output_type": "display_data"
    },
    {
     "data": {
      "image/png": "[encoded data removed]",
      "text/plain": [
       "<Figure size 432x288 with 1 Axes>"
      ]
     },
     "metadata": {
      "needs_background": "light"
     },
     "output_type": "display_data"
    },
    {
     "data": {
      "image/png": "[encoded data removed]",
      "text/plain": [
       "<Figure size 432x288 with 1 Axes>"
      ]
     },
     "metadata": {
      "needs_background": "light"
     },
     "output_type": "display_data"
    },
    {
     "data": {
      "image/png": "[encoded data removed]",
      "text/plain": [
       "<Figure size 432x288 with 1 Axes>"
      ]
     },
     "metadata": {
      "needs_background": "light"
     },
     "output_type": "display_data"
    },
    {
     "data": {
      "image/png": "[encoded data removed]",
      "text/plain": [
       "<Figure size 432x288 with 1 Axes>"
      ]
     },
     "metadata": {
      "needs_background": "light"
     },
     "output_type": "display_data"
    },
    {
     "data": {
      "image/png": "[encoded data removed]",
      "text/plain": [
       "<Figure size 432x288 with 1 Axes>"
      ]
     },
     "metadata": {
      "needs_background": "light"
     },
     "output_type": "display_data"
    },
    {
     "data": {
      "image/png": "[encoded data removed]",
      "text/plain": [
       "<Figure size 432x288 with 1 Axes>"
      ]
     },
     "metadata": {
      "needs_background": "light"
     },
     "output_type": "display_data"
    },
    {
     "data": {
      "image/png": "[encoded data removed]",
      "text/plain": [
       "<Figure size 432x288 with 1 Axes>"
      ]
     },
     "metadata": {
      "needs_background": "light"
     },
     "output_type": "display_data"
    },
    {
     "data": {
      "image/png": "[encoded data removed]",
      "text/plain": [
       "<Figure size 432x288 with 1 Axes>"
      ]
     },
     "metadata": {
      "needs_background": "light"
     },
     "output_type": "display_data"
    },
    {
     "data": {
      "image/png": "[encoded data removed]",
      "text/plain": [
       "<Figure size 432x288 with 1 Axes>"
      ]
     },
     "metadata": {
      "needs_background": "light"
     },
     "output_type": "display_data"
    },
    {
     "data": {
      "image/png": "[encoded data removed]",
      "text/plain": [
       "<Figure size 432x288 with 1 Axes>"
      ]
     },
     "metadata": {
      "needs_background": "light"
     },
     "output_type": "display_data"
    },
    {
     "data": {
      "image/png": "[encoded data removed]",
      "text/plain": [
       "<Figure size 432x288 with 1 Axes>"
      ]
     },
     "metadata": {
      "needs_background": "light"
     },
     "output_type": "display_data"
    }
   ],
   "source": [
    "analysis(barley,'figures/barley','barley')\n",
    "#analysis(bean,'figures/bean','bean')\n",
    "analysis(corn_maize,'figures/corn_maize','corn_maize')\n",
    "#analysis(edamame,'figures/edamame','edamame')\n",
    "#analysis(lentil,'figures/lentil','lentil')\n",
    "analysis(millet,'figures/millet','millet')\n",
    "#analysis(nut,'figures/nut','nut')\n",
    "analysis(oat,'figures/oat','oat')\n",
    "analysis(legume,'figures/legume','legume')\n",
    "analysis(potato,'figures/potato','potato')\n",
    "analysis(quinoa,'figures/quinoa','quinoa')\n",
    "analysis(rice,'figures/rice','rice')\n",
    "analysis(rye,'figures/rye','rye')\n",
    "analysis(sorghum,'figures/sorghum','sorghum')\n",
    "analysis(soybean,'figures/soybean','soybean')\n",
    "analysis(wheat,'figures/wheat','wheat')\n",
    "analysis(whole,'figures/whole','whole')"
   ]
  },
  {
   "cell_type": "markdown",
   "metadata": {},
   "source": [
    "# Combined analysis for all the crops"
   ]
  },
  {
   "cell_type": "code",
   "execution_count": 8,
   "metadata": {
    "ExecuteTime": {
     "end_time": "2021-02-08T01:14:03.891250Z",
     "start_time": "2021-02-08T01:14:03.889247Z"
    }
   },
   "outputs": [],
   "source": [
    "#print(list(dataframe.groupby(['FY'])['FY_TOTAL_COST'].sum()))"
   ]
  },
  {
   "cell_type": "code",
   "execution_count": 8,
   "metadata": {
    "ExecuteTime": {
     "end_time": "2021-03-05T15:50:34.491053Z",
     "start_time": "2021-03-05T15:50:34.485742Z"
    }
   },
   "outputs": [],
   "source": [
    "data=[barley,corn_maize,millet,oat,legume,potato,quinoa,rice,rye,sorghum,soybean,wheat]\n",
    "category=['barley','corn_maize','millet','oat','legume','potato','quinoa','rice','rye',\n",
    "         'sorghum','soybean','wheat']"
   ]
  },
  {
   "cell_type": "code",
   "execution_count": 9,
   "metadata": {
    "ExecuteTime": {
     "end_time": "2021-03-05T15:50:35.173314Z",
     "start_time": "2021-03-05T15:50:35.146277Z"
    }
   },
   "outputs": [],
   "source": [
    "yearly_cost_cols = ['2008','2009','2010', '2011', '2012', '2013', '2014', '2015', '2016', '2017', '2018','2019', 'crop']\n",
    "yearly_cost_ls=[]\n",
    "\n",
    "for i in range(len(data)):\n",
    "    #l=[]\n",
    "    l=data[i].groupby(['FY'])['FY_TOTAL_COST'].sum().to_list()\n",
    "    l.append(category[i])\n",
    "    #l.append(df)\n",
    "    yearly_cost_ls.append(l)\n",
    "    \n",
    "    \n",
    "    #print(df)\n",
    "yearly_cost = pd.DataFrame(yearly_cost_ls, columns = yearly_cost_cols) \n",
    "yearly_cost.to_csv('yearly_cost.csv', index=False)\n",
    "#yearly_cost_ls"
   ]
  },
  {
   "cell_type": "code",
   "execution_count": 10,
   "metadata": {
    "ExecuteTime": {
     "end_time": "2021-03-05T15:50:35.929721Z",
     "start_time": "2021-03-05T15:50:35.907866Z"
    }
   },
   "outputs": [],
   "source": [
    "yearly_project_count = ['2008','2009','2010', '2011', '2012', '2013', '2014', '2015', '2016', '2017', '2018','2019', 'crop']\n",
    "yearly_project_count_ls=[]\n",
    "\n",
    "for i in range(len(data)):\n",
    "    #l=[]\n",
    "    l=data[i].groupby(['FY'])['FY_TOTAL_COST'].count().to_list()\n",
    "    l.append(category[i])\n",
    "    #l.append(df)\n",
    "    yearly_project_count_ls.append(l)\n",
    "    \n",
    "    \n",
    "    #print(df)\n",
    "yearly_project_count = pd.DataFrame(yearly_project_count_ls, columns = yearly_cost_cols) \n",
    "yearly_project_count.to_csv('yearly_project_count.csv', index=False)\n",
    "#yearly_cost_ls"
   ]
  },
  {
   "cell_type": "code",
   "execution_count": 11,
   "metadata": {
    "ExecuteTime": {
     "end_time": "2021-03-05T15:50:36.577201Z",
     "start_time": "2021-03-05T15:50:36.564334Z"
    }
   },
   "outputs": [
    {
     "data": {
      "text/html": [
       "<div>\n",
       "<style scoped>\n",
       "    .dataframe tbody tr th:only-of-type {\n",
       "        vertical-align: middle;\n",
       "    }\n",
       "\n",
       "    .dataframe tbody tr th {\n",
       "        vertical-align: top;\n",
       "    }\n",
       "\n",
       "    .dataframe thead th {\n",
       "        text-align: right;\n",
       "    }\n",
       "</style>\n",
       "<table border=\"1\" class=\"dataframe\">\n",
       "  <thead>\n",
       "    <tr style=\"text-align: right;\">\n",
       "      <th></th>\n",
       "      <th>2008</th>\n",
       "      <th>2009</th>\n",
       "      <th>2010</th>\n",
       "      <th>2011</th>\n",
       "      <th>2012</th>\n",
       "      <th>2013</th>\n",
       "      <th>2014</th>\n",
       "      <th>2015</th>\n",
       "      <th>2016</th>\n",
       "      <th>2017</th>\n",
       "      <th>2018</th>\n",
       "      <th>2019</th>\n",
       "      <th>crop</th>\n",
       "    </tr>\n",
       "  </thead>\n",
       "  <tbody>\n",
       "    <tr>\n",
       "      <th>0</th>\n",
       "      <td>10</td>\n",
       "      <td>19</td>\n",
       "      <td>15</td>\n",
       "      <td>7</td>\n",
       "      <td>11</td>\n",
       "      <td>20.0</td>\n",
       "      <td>3.0</td>\n",
       "      <td>13.0</td>\n",
       "      <td>12.0</td>\n",
       "      <td>29.0</td>\n",
       "      <td>24</td>\n",
       "      <td>23</td>\n",
       "      <td>barley</td>\n",
       "    </tr>\n",
       "    <tr>\n",
       "      <th>1</th>\n",
       "      <td>80</td>\n",
       "      <td>103</td>\n",
       "      <td>93</td>\n",
       "      <td>67</td>\n",
       "      <td>45</td>\n",
       "      <td>78.0</td>\n",
       "      <td>44.0</td>\n",
       "      <td>52.0</td>\n",
       "      <td>78.0</td>\n",
       "      <td>68.0</td>\n",
       "      <td>63</td>\n",
       "      <td>63</td>\n",
       "      <td>corn_maize</td>\n",
       "    </tr>\n",
       "    <tr>\n",
       "      <th>2</th>\n",
       "      <td>3</td>\n",
       "      <td>1</td>\n",
       "      <td>3</td>\n",
       "      <td>1</td>\n",
       "      <td>1</td>\n",
       "      <td>1.0</td>\n",
       "      <td>1.0</td>\n",
       "      <td>2.0</td>\n",
       "      <td>1.0</td>\n",
       "      <td>2.0</td>\n",
       "      <td>millet</td>\n",
       "      <td>None</td>\n",
       "      <td>None</td>\n",
       "    </tr>\n",
       "    <tr>\n",
       "      <th>3</th>\n",
       "      <td>1</td>\n",
       "      <td>9</td>\n",
       "      <td>4</td>\n",
       "      <td>8</td>\n",
       "      <td>3</td>\n",
       "      <td>12.0</td>\n",
       "      <td>7.0</td>\n",
       "      <td>6.0</td>\n",
       "      <td>13.0</td>\n",
       "      <td>13.0</td>\n",
       "      <td>12</td>\n",
       "      <td>oat</td>\n",
       "      <td>None</td>\n",
       "    </tr>\n",
       "    <tr>\n",
       "      <th>4</th>\n",
       "      <td>39</td>\n",
       "      <td>77</td>\n",
       "      <td>60</td>\n",
       "      <td>44</td>\n",
       "      <td>42</td>\n",
       "      <td>74.0</td>\n",
       "      <td>27.0</td>\n",
       "      <td>48.0</td>\n",
       "      <td>44.0</td>\n",
       "      <td>60.0</td>\n",
       "      <td>60</td>\n",
       "      <td>62</td>\n",
       "      <td>legume</td>\n",
       "    </tr>\n",
       "    <tr>\n",
       "      <th>5</th>\n",
       "      <td>32</td>\n",
       "      <td>32</td>\n",
       "      <td>28</td>\n",
       "      <td>16</td>\n",
       "      <td>15</td>\n",
       "      <td>36.0</td>\n",
       "      <td>18.0</td>\n",
       "      <td>22.0</td>\n",
       "      <td>23.0</td>\n",
       "      <td>21.0</td>\n",
       "      <td>21</td>\n",
       "      <td>19</td>\n",
       "      <td>potato</td>\n",
       "    </tr>\n",
       "    <tr>\n",
       "      <th>6</th>\n",
       "      <td>1</td>\n",
       "      <td>1</td>\n",
       "      <td>1</td>\n",
       "      <td>2</td>\n",
       "      <td>quinoa</td>\n",
       "      <td>NaN</td>\n",
       "      <td>NaN</td>\n",
       "      <td>NaN</td>\n",
       "      <td>NaN</td>\n",
       "      <td>NaN</td>\n",
       "      <td>None</td>\n",
       "      <td>None</td>\n",
       "      <td>None</td>\n",
       "    </tr>\n",
       "    <tr>\n",
       "      <th>7</th>\n",
       "      <td>34</td>\n",
       "      <td>25</td>\n",
       "      <td>23</td>\n",
       "      <td>23</td>\n",
       "      <td>12</td>\n",
       "      <td>33.0</td>\n",
       "      <td>11.0</td>\n",
       "      <td>21.0</td>\n",
       "      <td>23.0</td>\n",
       "      <td>16.0</td>\n",
       "      <td>15</td>\n",
       "      <td>14</td>\n",
       "      <td>rice</td>\n",
       "    </tr>\n",
       "    <tr>\n",
       "      <th>8</th>\n",
       "      <td>1</td>\n",
       "      <td>6</td>\n",
       "      <td>3</td>\n",
       "      <td>9</td>\n",
       "      <td>3</td>\n",
       "      <td>4.0</td>\n",
       "      <td>3.0</td>\n",
       "      <td>3.0</td>\n",
       "      <td>4.0</td>\n",
       "      <td>3.0</td>\n",
       "      <td>4</td>\n",
       "      <td>6</td>\n",
       "      <td>rye</td>\n",
       "    </tr>\n",
       "    <tr>\n",
       "      <th>9</th>\n",
       "      <td>11</td>\n",
       "      <td>13</td>\n",
       "      <td>24</td>\n",
       "      <td>8</td>\n",
       "      <td>11</td>\n",
       "      <td>23.0</td>\n",
       "      <td>11.0</td>\n",
       "      <td>18.0</td>\n",
       "      <td>10.0</td>\n",
       "      <td>27.0</td>\n",
       "      <td>26</td>\n",
       "      <td>26</td>\n",
       "      <td>sorghum</td>\n",
       "    </tr>\n",
       "    <tr>\n",
       "      <th>10</th>\n",
       "      <td>54</td>\n",
       "      <td>57</td>\n",
       "      <td>73</td>\n",
       "      <td>39</td>\n",
       "      <td>28</td>\n",
       "      <td>48.0</td>\n",
       "      <td>37.0</td>\n",
       "      <td>47.0</td>\n",
       "      <td>33.0</td>\n",
       "      <td>49.0</td>\n",
       "      <td>50</td>\n",
       "      <td>54</td>\n",
       "      <td>soybean</td>\n",
       "    </tr>\n",
       "    <tr>\n",
       "      <th>11</th>\n",
       "      <td>36</td>\n",
       "      <td>58</td>\n",
       "      <td>48</td>\n",
       "      <td>25</td>\n",
       "      <td>27</td>\n",
       "      <td>51.0</td>\n",
       "      <td>13.0</td>\n",
       "      <td>41.0</td>\n",
       "      <td>48.0</td>\n",
       "      <td>49.0</td>\n",
       "      <td>48</td>\n",
       "      <td>47</td>\n",
       "      <td>wheat</td>\n",
       "    </tr>\n",
       "  </tbody>\n",
       "</table>\n",
       "</div>"
      ],
      "text/plain": [
       "    2008  2009  2010  2011    2012  2013  2014  2015  2016  2017    2018  \\\n",
       "0     10    19    15     7      11  20.0   3.0  13.0  12.0  29.0      24   \n",
       "1     80   103    93    67      45  78.0  44.0  52.0  78.0  68.0      63   \n",
       "2      3     1     3     1       1   1.0   1.0   2.0   1.0   2.0  millet   \n",
       "3      1     9     4     8       3  12.0   7.0   6.0  13.0  13.0      12   \n",
       "4     39    77    60    44      42  74.0  27.0  48.0  44.0  60.0      60   \n",
       "5     32    32    28    16      15  36.0  18.0  22.0  23.0  21.0      21   \n",
       "6      1     1     1     2  quinoa   NaN   NaN   NaN   NaN   NaN    None   \n",
       "7     34    25    23    23      12  33.0  11.0  21.0  23.0  16.0      15   \n",
       "8      1     6     3     9       3   4.0   3.0   3.0   4.0   3.0       4   \n",
       "9     11    13    24     8      11  23.0  11.0  18.0  10.0  27.0      26   \n",
       "10    54    57    73    39      28  48.0  37.0  47.0  33.0  49.0      50   \n",
       "11    36    58    48    25      27  51.0  13.0  41.0  48.0  49.0      48   \n",
       "\n",
       "    2019        crop  \n",
       "0     23      barley  \n",
       "1     63  corn_maize  \n",
       "2   None        None  \n",
       "3    oat        None  \n",
       "4     62      legume  \n",
       "5     19      potato  \n",
       "6   None        None  \n",
       "7     14        rice  \n",
       "8      6         rye  \n",
       "9     26     sorghum  \n",
       "10    54     soybean  \n",
       "11    47       wheat  "
      ]
     },
     "execution_count": 11,
     "metadata": {},
     "output_type": "execute_result"
    }
   ],
   "source": [
    "yearly_project_count"
   ]
  },
  {
   "cell_type": "code",
   "execution_count": 12,
   "metadata": {
    "ExecuteTime": {
     "end_time": "2021-03-05T15:50:37.260033Z",
     "start_time": "2021-03-05T15:50:37.250609Z"
    }
   },
   "outputs": [],
   "source": [
    "from matplotlib.pyplot import cm\n",
    "def plot_figures(dataframe,crop):\n",
    "    fig = plt.figure(figsize = (10,10))\n",
    "    \n",
    "    colors = iter(cm.rainbow(np.linspace(0, 1, len(dataframe))))\n",
    "    i=0\n",
    "    for i,color in enumerate(colors):\n",
    "        dataframe=data[i]\n",
    "        ax=dataframe.groupby(['FY'])['FY_TOTAL_COST'].sum().plot(style='o-', color= color, legend=True)\n",
    "        ax.legend(crop)\n",
    "    plt.xlabel('Financial Year',fontsize=14, fontweight='bold')\n",
    "    plt.ylabel('Total Funding Amount for Each Year',fontsize=14, fontweight='bold')\n",
    "    plt.savefig('all_crop_yearly_funding_distribution.png')\n",
    "    plt.close(fig)\n",
    "    \n",
    "    "
   ]
  },
  {
   "cell_type": "code",
   "execution_count": 13,
   "metadata": {
    "ExecuteTime": {
     "end_time": "2021-03-05T15:50:38.625902Z",
     "start_time": "2021-03-05T15:50:38.345284Z"
    }
   },
   "outputs": [],
   "source": [
    "plot_figures(data,category)"
   ]
  },
  {
   "cell_type": "code",
   "execution_count": 14,
   "metadata": {
    "ExecuteTime": {
     "end_time": "2021-03-05T15:50:39.202084Z",
     "start_time": "2021-03-05T15:50:39.193075Z"
    }
   },
   "outputs": [],
   "source": [
    "\n",
    "from matplotlib.pyplot import cm\n",
    "def plot_figures(dataframe,crop):\n",
    "    fig = plt.figure(figsize = (10,10))\n",
    "    colors = iter(cm.rainbow(np.linspace(0, 1, len(dataframe))))\n",
    "    j=0\n",
    "    for j,color in enumerate(colors):\n",
    "        dataframe=data[j]\n",
    "        ax=dataframe.groupby(['FY'])['FY_TOTAL_COST'].count().plot(style='o-',color= color, legend=True)\n",
    "        ax.legend(crop)\n",
    "    plt.xlabel('Financial Year',fontsize=14, fontweight='bold')\n",
    "    plt.ylabel('Total Number of Projects Funded Each Year',fontsize=14, fontweight='bold')\n",
    "    plt.savefig('all_crop_yearly_number_of_projects_funding_distribution.png')\n",
    "    plt.close(fig)"
   ]
  },
  {
   "cell_type": "code",
   "execution_count": 15,
   "metadata": {
    "ExecuteTime": {
     "end_time": "2021-03-05T15:50:40.065036Z",
     "start_time": "2021-03-05T15:50:39.810337Z"
    }
   },
   "outputs": [],
   "source": [
    "plot_figures(data,category)"
   ]
  },
  {
   "cell_type": "code",
   "execution_count": 16,
   "metadata": {
    "ExecuteTime": {
     "end_time": "2021-03-05T15:50:41.629429Z",
     "start_time": "2021-03-05T15:50:41.603682Z"
    }
   },
   "outputs": [
    {
     "data": {
      "text/html": [
       "<div>\n",
       "<style scoped>\n",
       "    .dataframe tbody tr th:only-of-type {\n",
       "        vertical-align: middle;\n",
       "    }\n",
       "\n",
       "    .dataframe tbody tr th {\n",
       "        vertical-align: top;\n",
       "    }\n",
       "\n",
       "    .dataframe thead th {\n",
       "        text-align: right;\n",
       "    }\n",
       "</style>\n",
       "<table border=\"1\" class=\"dataframe\">\n",
       "  <thead>\n",
       "    <tr style=\"text-align: right;\">\n",
       "      <th></th>\n",
       "      <th>Unnamed: 0</th>\n",
       "      <th>PROJECT_ID</th>\n",
       "      <th>CONGRESSIONAL_DISTRICT</th>\n",
       "      <th>BUDGET_START_DATE</th>\n",
       "      <th>BUDGET_END_DATE</th>\n",
       "      <th>CFDA_CODE</th>\n",
       "      <th>FY</th>\n",
       "      <th>FY_TOTAL_COST</th>\n",
       "      <th>FY_TOTAL_COST_SUB_PROJECTS</th>\n",
       "      <th>COUNT</th>\n",
       "      <th>FY_TOTAL_COST_UNIQUE</th>\n",
       "      <th>COUNT_UNIQUE</th>\n",
       "      <th>duplicate</th>\n",
       "    </tr>\n",
       "    <tr>\n",
       "      <th>CATEGORY</th>\n",
       "      <th></th>\n",
       "      <th></th>\n",
       "      <th></th>\n",
       "      <th></th>\n",
       "      <th></th>\n",
       "      <th></th>\n",
       "      <th></th>\n",
       "      <th></th>\n",
       "      <th></th>\n",
       "      <th></th>\n",
       "      <th></th>\n",
       "      <th></th>\n",
       "      <th></th>\n",
       "    </tr>\n",
       "  </thead>\n",
       "  <tbody>\n",
       "    <tr>\n",
       "      <th>barley</th>\n",
       "      <td>66172.0</td>\n",
       "      <td>168735163</td>\n",
       "      <td>701.0</td>\n",
       "      <td>0.0</td>\n",
       "      <td>0.0</td>\n",
       "      <td>1878.312</td>\n",
       "      <td>374661</td>\n",
       "      <td>213556142.0</td>\n",
       "      <td>0.0</td>\n",
       "      <td>516</td>\n",
       "      <td>9.235845e+07</td>\n",
       "      <td>186</td>\n",
       "      <td>0.0</td>\n",
       "    </tr>\n",
       "    <tr>\n",
       "      <th>corn_maize</th>\n",
       "      <td>1415438.0</td>\n",
       "      <td>665652708</td>\n",
       "      <td>5681.0</td>\n",
       "      <td>0.0</td>\n",
       "      <td>0.0</td>\n",
       "      <td>8482.194</td>\n",
       "      <td>1678919</td>\n",
       "      <td>782886533.0</td>\n",
       "      <td>0.0</td>\n",
       "      <td>1559</td>\n",
       "      <td>5.142050e+08</td>\n",
       "      <td>800</td>\n",
       "      <td>34.0</td>\n",
       "    </tr>\n",
       "    <tr>\n",
       "      <th>legume</th>\n",
       "      <td>1273676.0</td>\n",
       "      <td>526573241</td>\n",
       "      <td>3747.0</td>\n",
       "      <td>0.0</td>\n",
       "      <td>0.0</td>\n",
       "      <td>6472.136</td>\n",
       "      <td>1282635</td>\n",
       "      <td>567685914.0</td>\n",
       "      <td>0.0</td>\n",
       "      <td>1038</td>\n",
       "      <td>4.332685e+08</td>\n",
       "      <td>506</td>\n",
       "      <td>131.0</td>\n",
       "    </tr>\n",
       "    <tr>\n",
       "      <th>millet</th>\n",
       "      <td>686.0</td>\n",
       "      <td>13119108</td>\n",
       "      <td>150.0</td>\n",
       "      <td>0.0</td>\n",
       "      <td>0.0</td>\n",
       "      <td>162.949</td>\n",
       "      <td>32207</td>\n",
       "      <td>13282324.0</td>\n",
       "      <td>0.0</td>\n",
       "      <td>45</td>\n",
       "      <td>6.207512e+06</td>\n",
       "      <td>9</td>\n",
       "      <td>7.0</td>\n",
       "    </tr>\n",
       "    <tr>\n",
       "      <th>oat</th>\n",
       "      <td>23236.0</td>\n",
       "      <td>80777869</td>\n",
       "      <td>467.0</td>\n",
       "      <td>0.0</td>\n",
       "      <td>0.0</td>\n",
       "      <td>889.563</td>\n",
       "      <td>177293</td>\n",
       "      <td>100086268.0</td>\n",
       "      <td>0.0</td>\n",
       "      <td>287</td>\n",
       "      <td>3.740585e+07</td>\n",
       "      <td>25</td>\n",
       "      <td>63.0</td>\n",
       "    </tr>\n",
       "    <tr>\n",
       "      <th>potato</th>\n",
       "      <td>129724.0</td>\n",
       "      <td>222378003</td>\n",
       "      <td>2032.0</td>\n",
       "      <td>0.0</td>\n",
       "      <td>0.0</td>\n",
       "      <td>2879.577</td>\n",
       "      <td>569694</td>\n",
       "      <td>207360289.0</td>\n",
       "      <td>0.0</td>\n",
       "      <td>424</td>\n",
       "      <td>1.641536e+08</td>\n",
       "      <td>219</td>\n",
       "      <td>64.0</td>\n",
       "    </tr>\n",
       "    <tr>\n",
       "      <th>quinoa</th>\n",
       "      <td>24.0</td>\n",
       "      <td>3681812</td>\n",
       "      <td>44.0</td>\n",
       "      <td>0.0</td>\n",
       "      <td>0.0</td>\n",
       "      <td>51.128</td>\n",
       "      <td>10063</td>\n",
       "      <td>4869291.0</td>\n",
       "      <td>0.0</td>\n",
       "      <td>13</td>\n",
       "      <td>3.939036e+06</td>\n",
       "      <td>3</td>\n",
       "      <td>2.0</td>\n",
       "    </tr>\n",
       "    <tr>\n",
       "      <th>rice</th>\n",
       "      <td>395378.0</td>\n",
       "      <td>193130704</td>\n",
       "      <td>1573.0</td>\n",
       "      <td>0.0</td>\n",
       "      <td>0.0</td>\n",
       "      <td>2547.873</td>\n",
       "      <td>503198</td>\n",
       "      <td>167096810.0</td>\n",
       "      <td>0.0</td>\n",
       "      <td>502</td>\n",
       "      <td>1.105951e+08</td>\n",
       "      <td>162</td>\n",
       "      <td>88.0</td>\n",
       "    </tr>\n",
       "    <tr>\n",
       "      <th>rye</th>\n",
       "      <td>5198.0</td>\n",
       "      <td>40618524</td>\n",
       "      <td>339.0</td>\n",
       "      <td>0.0</td>\n",
       "      <td>0.0</td>\n",
       "      <td>496.832</td>\n",
       "      <td>98667</td>\n",
       "      <td>42140049.0</td>\n",
       "      <td>0.0</td>\n",
       "      <td>179</td>\n",
       "      <td>1.141053e+07</td>\n",
       "      <td>7</td>\n",
       "      <td>42.0</td>\n",
       "    </tr>\n",
       "    <tr>\n",
       "      <th>sorghum</th>\n",
       "      <td>61900.0</td>\n",
       "      <td>183310392</td>\n",
       "      <td>1606.0</td>\n",
       "      <td>0.0</td>\n",
       "      <td>0.0</td>\n",
       "      <td>2105.549</td>\n",
       "      <td>418969</td>\n",
       "      <td>219461651.0</td>\n",
       "      <td>0.0</td>\n",
       "      <td>435</td>\n",
       "      <td>1.543647e+08</td>\n",
       "      <td>100</td>\n",
       "      <td>108.0</td>\n",
       "    </tr>\n",
       "    <tr>\n",
       "      <th>soybean</th>\n",
       "      <td>872726.0</td>\n",
       "      <td>461965428</td>\n",
       "      <td>3809.0</td>\n",
       "      <td>0.0</td>\n",
       "      <td>0.0</td>\n",
       "      <td>5780.881</td>\n",
       "      <td>1145574</td>\n",
       "      <td>533475658.0</td>\n",
       "      <td>0.0</td>\n",
       "      <td>1133</td>\n",
       "      <td>3.368339e+08</td>\n",
       "      <td>230</td>\n",
       "      <td>339.0</td>\n",
       "    </tr>\n",
       "    <tr>\n",
       "      <th>wheat</th>\n",
       "      <td>0.0</td>\n",
       "      <td>414073901</td>\n",
       "      <td>2306.0</td>\n",
       "      <td>0.0</td>\n",
       "      <td>0.0</td>\n",
       "      <td>4981.438</td>\n",
       "      <td>988707</td>\n",
       "      <td>481777184.0</td>\n",
       "      <td>0.0</td>\n",
       "      <td>1077</td>\n",
       "      <td>2.782325e+08</td>\n",
       "      <td>186</td>\n",
       "      <td>305.0</td>\n",
       "    </tr>\n",
       "  </tbody>\n",
       "</table>\n",
       "</div>"
      ],
      "text/plain": [
       "            Unnamed: 0  PROJECT_ID  CONGRESSIONAL_DISTRICT  BUDGET_START_DATE  \\\n",
       "CATEGORY                                                                        \n",
       "barley         66172.0   168735163                   701.0                0.0   \n",
       "corn_maize   1415438.0   665652708                  5681.0                0.0   \n",
       "legume       1273676.0   526573241                  3747.0                0.0   \n",
       "millet           686.0    13119108                   150.0                0.0   \n",
       "oat            23236.0    80777869                   467.0                0.0   \n",
       "potato        129724.0   222378003                  2032.0                0.0   \n",
       "quinoa            24.0     3681812                    44.0                0.0   \n",
       "rice          395378.0   193130704                  1573.0                0.0   \n",
       "rye             5198.0    40618524                   339.0                0.0   \n",
       "sorghum        61900.0   183310392                  1606.0                0.0   \n",
       "soybean       872726.0   461965428                  3809.0                0.0   \n",
       "wheat              0.0   414073901                  2306.0                0.0   \n",
       "\n",
       "            BUDGET_END_DATE  CFDA_CODE       FY  FY_TOTAL_COST  \\\n",
       "CATEGORY                                                         \n",
       "barley                  0.0   1878.312   374661    213556142.0   \n",
       "corn_maize              0.0   8482.194  1678919    782886533.0   \n",
       "legume                  0.0   6472.136  1282635    567685914.0   \n",
       "millet                  0.0    162.949    32207     13282324.0   \n",
       "oat                     0.0    889.563   177293    100086268.0   \n",
       "potato                  0.0   2879.577   569694    207360289.0   \n",
       "quinoa                  0.0     51.128    10063      4869291.0   \n",
       "rice                    0.0   2547.873   503198    167096810.0   \n",
       "rye                     0.0    496.832    98667     42140049.0   \n",
       "sorghum                 0.0   2105.549   418969    219461651.0   \n",
       "soybean                 0.0   5780.881  1145574    533475658.0   \n",
       "wheat                   0.0   4981.438   988707    481777184.0   \n",
       "\n",
       "            FY_TOTAL_COST_SUB_PROJECTS  COUNT  FY_TOTAL_COST_UNIQUE  \\\n",
       "CATEGORY                                                              \n",
       "barley                             0.0    516          9.235845e+07   \n",
       "corn_maize                         0.0   1559          5.142050e+08   \n",
       "legume                             0.0   1038          4.332685e+08   \n",
       "millet                             0.0     45          6.207512e+06   \n",
       "oat                                0.0    287          3.740585e+07   \n",
       "potato                             0.0    424          1.641536e+08   \n",
       "quinoa                             0.0     13          3.939036e+06   \n",
       "rice                               0.0    502          1.105951e+08   \n",
       "rye                                0.0    179          1.141053e+07   \n",
       "sorghum                            0.0    435          1.543647e+08   \n",
       "soybean                            0.0   1133          3.368339e+08   \n",
       "wheat                              0.0   1077          2.782325e+08   \n",
       "\n",
       "            COUNT_UNIQUE  duplicate  \n",
       "CATEGORY                             \n",
       "barley               186        0.0  \n",
       "corn_maize           800       34.0  \n",
       "legume               506      131.0  \n",
       "millet                 9        7.0  \n",
       "oat                   25       63.0  \n",
       "potato               219       64.0  \n",
       "quinoa                 3        2.0  \n",
       "rice                 162       88.0  \n",
       "rye                    7       42.0  \n",
       "sorghum              100      108.0  \n",
       "soybean              230      339.0  \n",
       "wheat                186      305.0  "
      ]
     },
     "execution_count": 16,
     "metadata": {},
     "output_type": "execute_result"
    }
   ],
   "source": [
    "repartition = whole.groupby(by=whole[\"CATEGORY\"]).sum()\n",
    "repartition"
   ]
  },
  {
   "cell_type": "code",
   "execution_count": 17,
   "metadata": {
    "ExecuteTime": {
     "end_time": "2021-03-05T15:50:43.034751Z",
     "start_time": "2021-03-05T15:50:42.868655Z"
    }
   },
   "outputs": [
    {
     "data": {
      "image/png": "[encoded data removed]",
      "text/plain": [
       "<Figure size 1440x720 with 1 Axes>"
      ]
     },
     "metadata": {},
     "output_type": "display_data"
    }
   ],
   "source": [
    "fig = plt.figure(figsize=(20, 10))\n",
    "a = np.random.random(12)\n",
    "cs = cm.Set3(np.arange(12)/12)\n",
    "plt.pie(x=repartition[\"FY_TOTAL_COST_UNIQUE\"],\n",
    "        labels=repartition.index, colors=cs, autopct='%1.1f%%')\n",
    "plt.title('Total Funding Distribution for Each Crop Category for the Total Funding of ' +\n",
    "          str(repartition[\"FY_TOTAL_COST_UNIQUE\"].sum()), fontsize=18, fontweight='bold')\n",
    "plt.savefig('all_crop_funding_distribution.png')\n",
    "plt.show()"
   ]
  },
  {
   "cell_type": "code",
   "execution_count": 18,
   "metadata": {
    "ExecuteTime": {
     "end_time": "2021-03-05T15:50:43.987612Z",
     "start_time": "2021-03-05T15:50:43.813835Z"
    }
   },
   "outputs": [
    {
     "data": {
      "image/png": "[encoded data removed]",
      "text/plain": [
       "<Figure size 1440x720 with 1 Axes>"
      ]
     },
     "metadata": {},
     "output_type": "display_data"
    }
   ],
   "source": [
    "fig = plt.figure(figsize=(20, 10))\n",
    "a = np.random.random(12)\n",
    "cs = cm.Set3(np.arange(12)/12.)\n",
    "plt.pie(x=repartition[\"COUNT_UNIQUE\"],\n",
    "        labels=repartition.index, colors=cs, autopct='%1.1f%%',)\n",
    "plt.title('Total Number of Projects Funded for Each Crop Category for the Non-Repeting Propoasals betwen categories)' +\n",
    "          str(repartition[\"COUNT_UNIQUE\"].sum()), fontsize=18, fontweight='bold')\n",
    "plt.savefig('all_crop_number_of_projects_funding_distribution.png')\n",
    "plt.show()"
   ]
  },
  {
   "cell_type": "code",
   "execution_count": 21,
   "metadata": {
    "ExecuteTime": {
     "end_time": "2021-03-05T15:51:24.819074Z",
     "start_time": "2021-03-05T15:51:24.813019Z"
    }
   },
   "outputs": [
    {
     "data": {
      "text/plain": [
       "2433"
      ]
     },
     "execution_count": 21,
     "metadata": {},
     "output_type": "execute_result"
    }
   ],
   "source": [
    "repartition['COUNT_UNIQUE'].sum()"
   ]
  },
  {
   "cell_type": "code",
   "execution_count": 28,
   "metadata": {
    "ExecuteTime": {
     "end_time": "2021-03-05T15:54:32.522427Z",
     "start_time": "2021-03-05T15:54:32.513063Z"
    }
   },
   "outputs": [],
   "source": [
    "t=whole.drop_duplicates(subset=['PROJECT_ID']).reset_index(drop=True)"
   ]
  },
  {
   "cell_type": "code",
   "execution_count": 30,
   "metadata": {
    "ExecuteTime": {
     "end_time": "2021-03-05T18:56:58.699071Z",
     "start_time": "2021-03-05T18:56:58.555310Z"
    }
   },
   "outputs": [],
   "source": [
    "t.to_csv('whole_removing duplicated project ids.csv')"
   ]
  },
  {
   "cell_type": "code",
   "execution_count": null,
   "metadata": {},
   "outputs": [],
   "source": []
  }
 ],
 "metadata": {
  "kernelspec": {
   "display_name": "Python 3",
   "language": "python",
   "name": "python3"
  },
  "language_info": {
   "codemirror_mode": {
    "name": "ipython",
    "version": 3
   },
   "file_extension": ".py",
   "mimetype": "text/x-python",
   "name": "python",
   "nbconvert_exporter": "python",
   "pygments_lexer": "ipython3",
   "version": "3.8.3"
  },
  "toc": {
   "base_numbering": 1,
   "nav_menu": {},
   "number_sections": true,
   "sideBar": true,
   "skip_h1_title": false,
   "title_cell": "Table of Contents",
   "title_sidebar": "Contents",
   "toc_cell": false,
   "toc_position": {},
   "toc_section_display": true,
   "toc_window_display": false
  }
 },
 "nbformat": 4,
 "nbformat_minor": 4
}
